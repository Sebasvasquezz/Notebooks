{
  "nbformat": 4,
  "nbformat_minor": 0,
  "metadata": {
    "colab": {
      "provenance": [],
      "include_colab_link": true
    },
    "kernelspec": {
      "name": "python3",
      "display_name": "Python 3"
    },
    "language_info": {
      "name": "python"
    }
  },
  "cells": [
    {
      "cell_type": "markdown",
      "metadata": {
        "id": "view-in-github",
        "colab_type": "text"
      },
      "source": [
        "<a href=\"https://colab.research.google.com/github/Sebasvasquezz/Notebooks/blob/main/Python_para_Data_Science.ipynb\" target=\"_parent\"><img src=\"https://colab.research.google.com/assets/colab-badge.svg\" alt=\"Open In Colab\"/></a>"
      ]
    },
    {
      "cell_type": "markdown",
      "source": [
        "# <font color=green> **PYTHON PARA DATA SCIENCE**\n",
        "---"
      ],
      "metadata": {
        "id": "AGc2Cf4cBwd7"
      }
    },
    {
      "cell_type": "markdown",
      "source": [
        "## <font color=green> 1. BIBLIOTECAS\n",
        "---"
      ],
      "metadata": {
        "id": "fH2br9y9CYZ8"
      }
    },
    {
      "cell_type": "markdown",
      "source": [
        "## 1.1 Instalación e importación de bibliotecas\n",
        "\n",
        "En el lenguaje Python se utiliza bastante el concepto de bibliotecas como un conjunto de módulos y funciones útiles para el usuario. Estas favorecen la reducción del uso de códigos en el proyecto, manteniendo únicamente los recursos necesarios para la tarea que deseamos realizar."
      ],
      "metadata": {
        "id": "jjEKgfiuFzHz"
      }
    },
    {
      "cell_type": "markdown",
      "source": [
        "### Instalando una biblioteca"
      ],
      "metadata": {
        "id": "JjpazCgqDRfZ"
      }
    },
    {
      "cell_type": "markdown",
      "source": [
        "Para instalar o actualizar una biblioteca en Python, podemos acudir a `pip` que es un gestor de bibliotecas en Python."
      ],
      "metadata": {
        "id": "_qnuIo7oIQYx"
      }
    },
    {
      "cell_type": "markdown",
      "source": [
        "Existe también PYPI que es un repositorio de bibliotecas Python que contiene las bibliotecas más utilizadas por la comunidad junto a su respectiva documentación.\n",
        "\n",
        "- PYPI ([https://pypi.org/](https://pypi.org/))"
      ],
      "metadata": {
        "id": "IHTmQnlXInD1"
      }
    },
    {
      "cell_type": "code",
      "source": [
        "!pip install matplotlib"
      ],
      "metadata": {
        "id": "Rv5sIo7NM5VS",
        "outputId": "f691cd53-b09a-482b-9d36-c92db32693ce",
        "colab": {
          "base_uri": "https://localhost:8080/"
        }
      },
      "execution_count": 1,
      "outputs": [
        {
          "output_type": "stream",
          "name": "stdout",
          "text": [
            "Requirement already satisfied: matplotlib in /usr/local/lib/python3.11/dist-packages (3.10.0)\n",
            "Requirement already satisfied: contourpy>=1.0.1 in /usr/local/lib/python3.11/dist-packages (from matplotlib) (1.3.1)\n",
            "Requirement already satisfied: cycler>=0.10 in /usr/local/lib/python3.11/dist-packages (from matplotlib) (0.12.1)\n",
            "Requirement already satisfied: fonttools>=4.22.0 in /usr/local/lib/python3.11/dist-packages (from matplotlib) (4.56.0)\n",
            "Requirement already satisfied: kiwisolver>=1.3.1 in /usr/local/lib/python3.11/dist-packages (from matplotlib) (1.4.8)\n",
            "Requirement already satisfied: numpy>=1.23 in /usr/local/lib/python3.11/dist-packages (from matplotlib) (2.0.2)\n",
            "Requirement already satisfied: packaging>=20.0 in /usr/local/lib/python3.11/dist-packages (from matplotlib) (24.2)\n",
            "Requirement already satisfied: pillow>=8 in /usr/local/lib/python3.11/dist-packages (from matplotlib) (11.1.0)\n",
            "Requirement already satisfied: pyparsing>=2.3.1 in /usr/local/lib/python3.11/dist-packages (from matplotlib) (3.2.1)\n",
            "Requirement already satisfied: python-dateutil>=2.7 in /usr/local/lib/python3.11/dist-packages (from matplotlib) (2.8.2)\n",
            "Requirement already satisfied: six>=1.5 in /usr/local/lib/python3.11/dist-packages (from python-dateutil>=2.7->matplotlib) (1.17.0)\n"
          ]
        }
      ]
    },
    {
      "cell_type": "code",
      "source": [
        "matplotlib.__version__"
      ],
      "metadata": {
        "id": "REYsDRqHM6hN",
        "outputId": "f064887e-55a0-4e54-885e-87848790e896",
        "colab": {
          "base_uri": "https://localhost:8080/",
          "height": 36
        }
      },
      "execution_count": 5,
      "outputs": [
        {
          "output_type": "execute_result",
          "data": {
            "text/plain": [
              "'3.10.0'"
            ],
            "application/vnd.google.colaboratory.intrinsic+json": {
              "type": "string"
            }
          },
          "metadata": {},
          "execution_count": 5
        }
      ]
    },
    {
      "cell_type": "markdown",
      "source": [
        "### Importando una biblioteca"
      ],
      "metadata": {
        "id": "A76TbnDbDehe"
      }
    },
    {
      "cell_type": "code",
      "source": [
        "import matplotlib"
      ],
      "metadata": {
        "id": "_xUxLlZFM728"
      },
      "execution_count": 4,
      "outputs": []
    },
    {
      "cell_type": "code",
      "source": [
        "import matplotlib.pyplot as plt"
      ],
      "metadata": {
        "id": "xy035zQzM75b"
      },
      "execution_count": 6,
      "outputs": []
    },
    {
      "cell_type": "code",
      "source": [
        "plt.show()"
      ],
      "metadata": {
        "id": "zxJ6UtPmlirI"
      },
      "execution_count": 7,
      "outputs": []
    },
    {
      "cell_type": "markdown",
      "source": [
        "## 1.2 Utilizando módulos/bibliotecas\n",
        "\n",
        "- Documentación de Python (https://docs.python.org/es/3/)"
      ],
      "metadata": {
        "id": "oMxkV9-6GXwH"
      }
    },
    {
      "cell_type": "markdown",
      "source": [
        "#### Ejemplo 1: Vamos a probar la biblioteca Matplotlib para un ejemplo sobre el cálculo de los promedios de notas de los estudiantes de una clase.\n",
        "\n",
        "(https://matplotlib.org/stable/tutorials/introductory/pyplot.html)"
      ],
      "metadata": {
        "id": "W1MHaXB2Q7tT"
      }
    },
    {
      "cell_type": "code",
      "source": [
        "from matplotlib import pyplot as plt"
      ],
      "metadata": {
        "id": "hme-WlDYM-Od"
      },
      "execution_count": 8,
      "outputs": []
    },
    {
      "cell_type": "code",
      "source": [
        "estudiantes = ['Juan', 'Maria', 'José']\n",
        "notas = [9, 8.5, 6.5]"
      ],
      "metadata": {
        "id": "mv1h3vJsM-RK"
      },
      "execution_count": 10,
      "outputs": []
    },
    {
      "cell_type": "code",
      "source": [
        "plt.bar(estudiantes, notas)\n",
        "plt.show()"
      ],
      "metadata": {
        "id": "GK77H828M-Zk",
        "outputId": "4cc21cc1-26cd-4545-9aef-8ec8c81695ba",
        "colab": {
          "base_uri": "https://localhost:8080/",
          "height": 430
        }
      },
      "execution_count": 11,
      "outputs": [
        {
          "output_type": "display_data",
          "data": {
            "text/plain": [
              "<Figure size 640x480 with 1 Axes>"
            ],
            "image/png": "[encoded data removed]"
          },
          "metadata": {}
        }
      ]
    },
    {
      "cell_type": "markdown",
      "source": [
        "#### Ejemplo 2: Vamos a seleccionar aleatoriamente a un alumno para presentar su trabajo de ciencia de datos usando la biblioteca `random`.\n",
        "\n",
        "(https://docs.python.org/es/3/library/random.html)"
      ],
      "metadata": {
        "id": "5G6u4ZRYRIFZ"
      }
    },
    {
      "cell_type": "code",
      "source": [
        "estudiantes_2 = ['Juan', 'Maria', 'José', 'Erica']"
      ],
      "metadata": {
        "id": "Y4o2AvhWNBdM"
      },
      "execution_count": 12,
      "outputs": []
    },
    {
      "cell_type": "code",
      "source": [
        "import random"
      ],
      "metadata": {
        "id": "9fXfsVnANBiG"
      },
      "execution_count": 15,
      "outputs": []
    },
    {
      "cell_type": "markdown",
      "source": [
        "<font color=green>**Tip:**</font> Podrás notar a medida que avanzas en los ejercicios la importancia de acudir a la documentación para aprender cómo utilizar un método de algún módulo en el lenguaje Python.\n",
        "\n",
        "El método `help()`, por ejemplo, retorna una descripción sobre una variable, método o clase.\n",
        "\n",
        "https://docs.python.org/es/3/library/functions.html?#help"
      ],
      "metadata": {
        "id": "N-XJrnISGpTN"
      }
    },
    {
      "cell_type": "code",
      "source": [
        "from random import choice"
      ],
      "metadata": {
        "id": "a2zJCXNUND9X"
      },
      "execution_count": 16,
      "outputs": []
    },
    {
      "cell_type": "code",
      "source": [
        "estudiante = choice(estudiantes_2)\n",
        "estudiante"
      ],
      "metadata": {
        "id": "2Yvr71PIND_r",
        "outputId": "a7251021-ae64-4a80-8608-5656c9cdb049",
        "colab": {
          "base_uri": "https://localhost:8080/",
          "height": 36
        }
      },
      "execution_count": 23,
      "outputs": [
        {
          "output_type": "execute_result",
          "data": {
            "text/plain": [
              "'Erica'"
            ],
            "application/vnd.google.colaboratory.intrinsic+json": {
              "type": "string"
            }
          },
          "metadata": {},
          "execution_count": 23
        }
      ]
    },
    {
      "cell_type": "code",
      "source": [
        "import math\n",
        "\n",
        "numeros = [2, 8, 15, 23, 91, 112, 256]\n",
        "raices_enteras = [num for num in numeros if math.sqrt(num) % 1 == 0]\n",
        "print(\"Números con raíces enteras:\", raices_enteras)"
      ],
      "metadata": {
        "id": "ExCToGByqnlN",
        "outputId": "903acfff-c1c3-4012-9482-3252f724d219",
        "colab": {
          "base_uri": "https://localhost:8080/"
        }
      },
      "execution_count": 27,
      "outputs": [
        {
          "output_type": "stream",
          "name": "stdout",
          "text": [
            "Números con raíces enteras: [2, 8, 15, 23, 91, 112]\n"
          ]
        }
      ]
    },
    {
      "cell_type": "markdown",
      "source": [
        "## <font color=green> 2. FUNCIONES\n",
        "---"
      ],
      "metadata": {
        "id": "2hrSPmlcBwWS"
      }
    },
    {
      "cell_type": "markdown",
      "source": [
        "En Python, las **funciones** son secuencias de instrucciones que ejecutan tareas específicas, permitiendo su reutilización en diferentes partes del código. Estas pueden recibir parámetros de entrada (que también los conocemos como *inputs*) y también retornar resultados."
      ],
      "metadata": {
        "id": "gC4lHsW-DREY"
      }
    },
    {
      "cell_type": "markdown",
      "source": [
        "## 2.1 Built-in function (Función Incorporada)\n",
        "\n",
        "El interpretador de Python contiene una serie de funciones incorporadas que pueden ser invocadas es cualquier momento. Algunas que vamos a utilizar a lo largo de este curso son: `type()`, `print()`, `list()`, `zip()`, `sum()`, `map()`, etc.\n",
        "\n",
        "***Documentación:***\n",
        "https://docs.python.org/es/3/library/functions.html\n"
      ],
      "metadata": {
        "id": "Qr_h1_UNEzHZ"
      }
    },
    {
      "cell_type": "markdown",
      "source": [
        "#### **Situación 1:**\n",
        "\n",
        "La institución educativa para la cual nos encontramos trabajando compartió los datos de las notas de un estudiante para que pudiesemos calcular su promedio con una casilla decimal.\n",
        "\n",
        "Los datos recibidos corresponden a un diccionario cuyas llaves indican el trimestre en cuestión y sus valores corresponden a las notas de cada trimestre del estudiante en una respectiva materia."
      ],
      "metadata": {
        "id": "MMOJIW3TyLIB"
      }
    },
    {
      "cell_type": "code",
      "source": [
        "notas = {'Trimestre 1': 9.5, 'Trimestre 2': 8, 'Trimestre 3': 7}"
      ],
      "metadata": {
        "id": "WQ-pCgdaMOlc"
      },
      "execution_count": 30,
      "outputs": []
    },
    {
      "cell_type": "code",
      "source": [
        "suma = 0\n",
        "for s in notas.values():\n",
        "  suma+=s\n",
        "suma"
      ],
      "metadata": {
        "id": "GU-HvC-QMOoS",
        "outputId": "089a34de-6482-47ca-efaf-020900aaf655",
        "colab": {
          "base_uri": "https://localhost:8080/"
        }
      },
      "execution_count": 31,
      "outputs": [
        {
          "output_type": "execute_result",
          "data": {
            "text/plain": [
              "24.5"
            ]
          },
          "metadata": {},
          "execution_count": 31
        }
      ]
    },
    {
      "cell_type": "code",
      "source": [
        "promedio = suma / len(notas)\n",
        "promedio"
      ],
      "metadata": {
        "id": "qKEyjY2bMOqj",
        "outputId": "7e982f6d-c034-423a-f495-ad0ee482336e",
        "colab": {
          "base_uri": "https://localhost:8080/"
        }
      },
      "execution_count": 32,
      "outputs": [
        {
          "output_type": "execute_result",
          "data": {
            "text/plain": [
              "8.166666666666666"
            ]
          },
          "metadata": {},
          "execution_count": 32
        }
      ]
    },
    {
      "cell_type": "markdown",
      "source": [
        "*Redondear el promedio usando round():*\n",
        "\n",
        "https://docs.python.org/es/3/library/functions.html#round"
      ],
      "metadata": {
        "id": "JD2z3LW8312E"
      }
    },
    {
      "cell_type": "code",
      "source": [
        "promedio = round(promedio,1)\n",
        "promedio"
      ],
      "metadata": {
        "id": "c7Cn5XFfMP5E",
        "outputId": "a4058f35-7ce2-4fcf-f227-c810a61f74eb",
        "colab": {
          "base_uri": "https://localhost:8080/"
        }
      },
      "execution_count": 34,
      "outputs": [
        {
          "output_type": "execute_result",
          "data": {
            "text/plain": [
              "8.2"
            ]
          },
          "metadata": {},
          "execution_count": 34
        }
      ]
    },
    {
      "cell_type": "code",
      "source": [],
      "metadata": {
        "id": "eVNPFr0pMRWl"
      },
      "execution_count": null,
      "outputs": []
    },
    {
      "cell_type": "markdown",
      "source": [
        "## 2.2 Creando funciones"
      ],
      "metadata": {
        "id": "NCUSezOJIdfy"
      }
    },
    {
      "cell_type": "markdown",
      "source": [
        "Tras explorar las funciones incorporadas y aprender cómo utilizar algunas de ellas, es posible que tengas la necesidad de resolver un problema específico y estas no sean suficientes.\n",
        "\n",
        "Por este motivo, necesitaremos crear nuestras propias funciones, y aún más, si necesitamos aplicarlas en varias partes de nuestros códigos."
      ],
      "metadata": {
        "id": "QrTAXwghsg6s"
      }
    },
    {
      "cell_type": "markdown",
      "source": [
        "### Funciones sin parámetros\n",
        "\n",
        "#### Formato estándar:\n",
        "\n",
        "```python\n",
        "def <nombre>():\n",
        "  <instrucciones>\n",
        "```"
      ],
      "metadata": {
        "id": "zxyXiX462A_X"
      }
    },
    {
      "cell_type": "code",
      "source": [
        "def promedio():\n",
        "  calculo =(10+9+7)/3\n",
        "  print(calculo)"
      ],
      "metadata": {
        "id": "WgWoULpnMSrT"
      },
      "execution_count": 38,
      "outputs": []
    },
    {
      "cell_type": "code",
      "source": [
        "promedio()"
      ],
      "metadata": {
        "id": "VKfg0zkDMStp",
        "outputId": "61e6c8ee-cf91-4180-90ff-15c27e783b6b",
        "colab": {
          "base_uri": "https://localhost:8080/"
        }
      },
      "execution_count": 39,
      "outputs": [
        {
          "output_type": "stream",
          "name": "stdout",
          "text": [
            "8.666666666666666\n"
          ]
        }
      ]
    },
    {
      "cell_type": "markdown",
      "source": [
        "### Funciones con parámetros\n",
        "\n",
        "#### Formato estándar:\n",
        "\n",
        "```python\n",
        "def <nombre>(<param_1>, <param_2>, ..., <param_n>):\n",
        "  <instrucciones>\n",
        "```"
      ],
      "metadata": {
        "id": "o9AR_DNDFKSD"
      }
    },
    {
      "cell_type": "code",
      "source": [
        "def promedio(nota_1, nota_2, nota_3):\n",
        "  calculo =(nota_1 + nota_2 + nota_3)/3\n",
        "  print(calculo)"
      ],
      "metadata": {
        "id": "1QHJXCYsMUx3"
      },
      "execution_count": 40,
      "outputs": []
    },
    {
      "cell_type": "code",
      "source": [
        "promedio(10,9,7)"
      ],
      "metadata": {
        "id": "txkkIwheMU0n",
        "outputId": "865b2bb3-5333-4d7c-b637-edcdb1e55637",
        "colab": {
          "base_uri": "https://localhost:8080/"
        }
      },
      "execution_count": 41,
      "outputs": [
        {
          "output_type": "stream",
          "name": "stdout",
          "text": [
            "8.666666666666666\n"
          ]
        }
      ]
    },
    {
      "cell_type": "code",
      "source": [],
      "metadata": {
        "id": "Pq88ApQEMWK9"
      },
      "execution_count": null,
      "outputs": []
    },
    {
      "cell_type": "markdown",
      "source": [
        "#### **Situación 2:**\n",
        "\n",
        "Recibimos una solicitud para crear una función que calcule el promedio de notas de un estudiante a partir de una lista; que permita alterar la cantidad de notas, y que no implique tener que modificar la función.\n",
        "\n",
        "Los datos recibidos, en esta ocasión, corresponden a una lista que contiene las notas de un mismo estudiante en una determinada materia.\n",
        "\n",
        "notas = 8.5, 9.0, 6.0, 10.0\n",
        "\n",
        "**¿Vamos a resolver este desafío?**\n",
        "\n",
        "Para facilitar nuestra comprensión del proceso, vamos a aplicar las notas de un único estudiante; sin embargo, puedes probar otros casos para practicar."
      ],
      "metadata": {
        "id": "-Umx7n134suz"
      }
    },
    {
      "cell_type": "code",
      "source": [
        "notas = [8.5, 9.0, 6.0, 10.0]"
      ],
      "metadata": {
        "id": "U4MlTO9ucAKc"
      },
      "execution_count": 42,
      "outputs": []
    },
    {
      "cell_type": "code",
      "source": [
        "def promedio(lista):\n",
        "  calculo = sum(lista) / len(lista)\n",
        "  print(calculo)"
      ],
      "metadata": {
        "id": "ZrqyDBNFMYOK"
      },
      "execution_count": 43,
      "outputs": []
    },
    {
      "cell_type": "code",
      "source": [
        "media = promedio(notas)\n",
        "media"
      ],
      "metadata": {
        "id": "wEkixagwMY2E",
        "outputId": "483b0abe-ca21-4434-b4f4-bdb3b6f60f4b",
        "colab": {
          "base_uri": "https://localhost:8080/"
        }
      },
      "execution_count": 45,
      "outputs": [
        {
          "output_type": "stream",
          "name": "stdout",
          "text": [
            "8.375\n"
          ]
        }
      ]
    },
    {
      "cell_type": "code",
      "source": [
        "type(media)"
      ],
      "metadata": {
        "id": "60Gvxd9tMa5d",
        "outputId": "85383672-e6fb-4908-bfc4-f46528c0230d",
        "colab": {
          "base_uri": "https://localhost:8080/"
        }
      },
      "execution_count": 46,
      "outputs": [
        {
          "output_type": "execute_result",
          "data": {
            "text/plain": [
              "NoneType"
            ]
          },
          "metadata": {},
          "execution_count": 46
        }
      ]
    },
    {
      "cell_type": "markdown",
      "source": [
        "<font color=red>**Atención!**</font>\n",
        "Cuando utilizamos funciones, necesitamos prestar atención a una propiedad llamada **Alcance de una función**. Esta propiedad determina dónde una variable puede ser utilizada dentro del código. Por ejemplo, una variable creada dentro de una función existirá únicamente dentro de esta función. O sea, cuando finaliza la ejecución de una función, la variable no estará disponible para el usuario en el resto del código."
      ],
      "metadata": {
        "id": "skMq7d0_xHND"
      }
    },
    {
      "cell_type": "code",
      "source": [],
      "metadata": {
        "id": "yTOqJSgsMbdJ"
      },
      "execution_count": null,
      "outputs": []
    },
    {
      "cell_type": "markdown",
      "source": [
        "## 2.3 Funciones que retornan valores\n",
        "\n",
        "#### Formato estándar:\n",
        "\n",
        "```python\n",
        "def <nombre>(<param_1>, <param_2>, ..., <param_n>):\n",
        "  <instrucciones>\n",
        "  return resultado\n",
        "```"
      ],
      "metadata": {
        "id": "-oDFGKcA52kG"
      }
    },
    {
      "cell_type": "markdown",
      "source": [
        "Retomando la actividad anterior, podemos retornar y guardar el valor del promedio de la siguiente forma:"
      ],
      "metadata": {
        "id": "DxvT_uItbQ-q"
      }
    },
    {
      "cell_type": "code",
      "source": [
        "# Notas del estudiante\n",
        "notas = [8.5, 9.0, 6.0, 10.0]"
      ],
      "metadata": {
        "id": "GlWdnX7Ubgl3"
      },
      "execution_count": 47,
      "outputs": []
    },
    {
      "cell_type": "code",
      "source": [
        "def promedio(lista):\n",
        "  resultado = sum(lista) / len(lista)\n",
        "  return resultado"
      ],
      "metadata": {
        "id": "JdMFsT9GMgI6"
      },
      "execution_count": 48,
      "outputs": []
    },
    {
      "cell_type": "code",
      "source": [
        "media = promedio(notas)\n",
        "media"
      ],
      "metadata": {
        "id": "p7AwNnTCMgLf",
        "outputId": "b58071d8-473a-4fe7-abe4-afccad71f3a1",
        "colab": {
          "base_uri": "https://localhost:8080/"
        }
      },
      "execution_count": 49,
      "outputs": [
        {
          "output_type": "execute_result",
          "data": {
            "text/plain": [
              "8.375"
            ]
          },
          "metadata": {},
          "execution_count": 49
        }
      ]
    },
    {
      "cell_type": "code",
      "source": [
        "type(media)"
      ],
      "metadata": {
        "id": "35zC247QMgRP",
        "outputId": "221a9f0e-d87d-41d5-f02c-2dbdd6f8275b",
        "colab": {
          "base_uri": "https://localhost:8080/"
        }
      },
      "execution_count": 50,
      "outputs": [
        {
          "output_type": "execute_result",
          "data": {
            "text/plain": [
              "float"
            ]
          },
          "metadata": {},
          "execution_count": 50
        }
      ]
    },
    {
      "cell_type": "markdown",
      "source": [
        "#### **Situación 3:**\n",
        "\n",
        "Recibimos una nueva solicitud. Debemos calcular el promedio de un estudiante a partir de una lista y retornar tanto el promedio como la situación del estudiante (\"Aprobado(a)\" si la nota es mayor o igual a 7.0, en caso contrario, será \"Reprobado(a)\").\n",
        "\n",
        "Además de ello, necesitamos exhibir un pequeño texto para indicar el promedio del estudiante y cuál es su situación. Los datos recibidos corresponden a una lista que contiene apenas las notas de un estudiante en una materia determinada.\n",
        "\n",
        "**¿Vamos a resolver este desafío?**\n",
        "\n",
        "Para facilitar nuestra comprensión del proceso, vamos a aplicar las notas de un único estudiante; sin embargo, puedes probar otros casos para practicar."
      ],
      "metadata": {
        "id": "_awyOKOH8OOi"
      }
    },
    {
      "cell_type": "code",
      "source": [
        "# Notas del estudiante\n",
        "notas = [8.5, 9.0, 6.0, 10.0]"
      ],
      "metadata": {
        "id": "3saGo2kDf0BY"
      },
      "execution_count": 51,
      "outputs": []
    },
    {
      "cell_type": "code",
      "source": [
        "def boletin(lista):\n",
        "  resultado = sum(lista) / len(lista)\n",
        "  if resultado >= 7:\n",
        "    situacion = 'Aprobado(a)'\n",
        "  else:\n",
        "    situacion = 'Reprobado(a)'\n",
        "  return (resultado, situacion)"
      ],
      "metadata": {
        "id": "unNLrdFjMjbv"
      },
      "execution_count": 56,
      "outputs": []
    },
    {
      "cell_type": "code",
      "source": [
        "boletin(notas)"
      ],
      "metadata": {
        "id": "Rmvg4hNeMjeD",
        "outputId": "47ac236e-45a3-426e-c7c1-162c6633cf69",
        "colab": {
          "base_uri": "https://localhost:8080/"
        }
      },
      "execution_count": 57,
      "outputs": [
        {
          "output_type": "execute_result",
          "data": {
            "text/plain": [
              "(8.375, 'Aprobado(a)')"
            ]
          },
          "metadata": {},
          "execution_count": 57
        }
      ]
    },
    {
      "cell_type": "code",
      "source": [
        "resultado, situacion = boletin(notas)"
      ],
      "metadata": {
        "id": "jCYuFpmeMji6"
      },
      "execution_count": 58,
      "outputs": []
    },
    {
      "cell_type": "code",
      "source": [
        "print(f\"El/la estudiante obtuvo un puntaje de: {resultado} y su situacion es: {situacion}\")"
      ],
      "metadata": {
        "id": "hSht0Z2cMjlT",
        "outputId": "8405cfa7-be44-47dd-b87a-e27be319ccfb",
        "colab": {
          "base_uri": "https://localhost:8080/"
        }
      },
      "execution_count": 59,
      "outputs": [
        {
          "output_type": "stream",
          "name": "stdout",
          "text": [
            "El/la estudiante obtuvo un puntaje de: 8.375 y su situacion es: Aprobado(a)\n"
          ]
        }
      ]
    },
    {
      "cell_type": "code",
      "source": [
        "def boletin(lista):\n",
        "  resultado = sum(lista) / len(lista)\n",
        "  if resultado >= 7:\n",
        "    situacion = 'Aprobado(a)'\n",
        "  else:\n",
        "    situacion = 'Reprobado(a)'\n",
        "  return f\"El/la estudiante obtuvo un puntaje de: {resultado} y su situacion es: {situacion}\""
      ],
      "metadata": {
        "id": "tLdjCulMMjnD"
      },
      "execution_count": 60,
      "outputs": []
    },
    {
      "cell_type": "code",
      "source": [
        "notas_2 = [7.5, 4.0, 3.0, 10.0]"
      ],
      "metadata": {
        "id": "Ge4jS1-LyEXo"
      },
      "execution_count": 63,
      "outputs": []
    },
    {
      "cell_type": "code",
      "source": [
        "boletin(notas_2)"
      ],
      "metadata": {
        "id": "6YDD5cbPyI7I",
        "outputId": "3f11b6f4-1bb3-4c99-b581-1d0ed180ee43",
        "colab": {
          "base_uri": "https://localhost:8080/",
          "height": 36
        }
      },
      "execution_count": 64,
      "outputs": [
        {
          "output_type": "execute_result",
          "data": {
            "text/plain": [
              "'El/la estudiante obtuvo un puntaje de: 6.125 y su situacion es: Reprobado(a)'"
            ],
            "application/vnd.google.colaboratory.intrinsic+json": {
              "type": "string"
            }
          },
          "metadata": {},
          "execution_count": 64
        }
      ]
    },
    {
      "cell_type": "markdown",
      "source": [
        "## 2.4 Funciones lambda\n",
        "\n",
        "También se conocen como funciones anónimas, son funciones que no necesitan ser definidas, o sea, no poseen un nombre, y describen en una única fila los comandos que deseamos aplicar.\n",
        "\n",
        "https://docs.python.org/es/3/reference/expressions.html?#lambda\n",
        "\n",
        "#### Formato estándar:\n",
        "\n",
        "```python\n",
        "lambda <variable>: <expresion>\n",
        "```"
      ],
      "metadata": {
        "id": "hwYYRpkZMft5"
      }
    },
    {
      "cell_type": "code",
      "source": [
        "nota_ = float(input('Ingrese su nota: '))\n",
        "\n",
        "def cualitativa(nota):\n",
        "  return nota+0.5\n",
        "\n",
        "cualitativa(nota_)"
      ],
      "metadata": {
        "id": "wcNxDJoPMmTJ",
        "outputId": "c2a0f6ee-0ecb-45c8-c91a-0db3618eedb7",
        "colab": {
          "base_uri": "https://localhost:8080/"
        }
      },
      "execution_count": 67,
      "outputs": [
        {
          "name": "stdout",
          "output_type": "stream",
          "text": [
            "Ingrese su nota: 6\n"
          ]
        },
        {
          "output_type": "execute_result",
          "data": {
            "text/plain": [
              "6.5"
            ]
          },
          "metadata": {},
          "execution_count": 67
        }
      ]
    },
    {
      "cell_type": "code",
      "source": [
        "nota_ = float(input('Ingrese su nota: '))\n",
        "\n",
        "cualitativa = lambda x: x+0.5\n",
        "\n",
        "print(cualitativa(nota_))"
      ],
      "metadata": {
        "id": "S-baAoaQMmVy",
        "outputId": "b9ed9a7f-6f44-4d0a-aba9-279743e009b6",
        "colab": {
          "base_uri": "https://localhost:8080/"
        }
      },
      "execution_count": 71,
      "outputs": [
        {
          "output_type": "stream",
          "name": "stdout",
          "text": [
            "Ingrese su nota: 6\n",
            "6.5\n"
          ]
        }
      ]
    },
    {
      "cell_type": "markdown",
      "source": [
        "#### **Situación 4:**\n",
        "\n",
        "En esta nueva solicitud, necesitamos crear una calculadora simple para obtener el promedio ponderado de notas de una materia determinada. Vamos a pedir que el usuario introduzca 3 notas (N1, N2, N3) del estudiante y devuelva el promedio ponderado de este estudiante. Los pesos de las notas son de, respectivamente 3, 2 y 5.\n",
        "\n",
        "Necesitamos exhibir un pequeño texto para poder indicar el promedio del estudiante.\n",
        "**¿Vamos a resolver este desafío?**\n"
      ],
      "metadata": {
        "id": "AuRWyNXYgD_b"
      }
    },
    {
      "cell_type": "markdown",
      "source": [
        "**Resolviendo nuestro problema:**"
      ],
      "metadata": {
        "id": "vdKk3DRBmtUE"
      }
    },
    {
      "cell_type": "code",
      "source": [
        "n1 = float(input('Ingrese la primera nota: '))\n",
        "n2 = float(input('Ingrese la segunda nota: '))\n",
        "n3 = float(input('Ingrese la tercera nota: '))\n",
        "\n",
        "ponderado = lambda n1, n2, n3: (n1*3 + n2*2 + n3*5)/10\n",
        "\n",
        "print(f\"El promedio ponderado de las notas es: {ponderado(n1, n2, n3)}\")"
      ],
      "metadata": {
        "id": "6YxEn9aiMnYJ",
        "outputId": "9d0640aa-e5d8-45df-b9f9-00b42bb3cd04",
        "colab": {
          "base_uri": "https://localhost:8080/"
        }
      },
      "execution_count": 72,
      "outputs": [
        {
          "output_type": "stream",
          "name": "stdout",
          "text": [
            "Ingrese la primera nota: 7\n",
            "Ingrese la segunda nota: 8\n",
            "Ingrese la tercera nota: 9.6\n",
            "El promedio ponderado de las notas es: 8.5\n"
          ]
        }
      ]
    },
    {
      "cell_type": "code",
      "source": [],
      "metadata": {
        "id": "Ptn9gQaPMnaz"
      },
      "execution_count": null,
      "outputs": []
    },
    {
      "cell_type": "markdown",
      "source": [
        "#### **Situación 5:**\n",
        "\n",
        "Ahora, debemos crear una pequeña función que permita dar una nota cualitativa (puntaje extra) a las notas del trimestre de los estudiantes del grupo que ganó el concurso de programación realizado en la institución. Cada estudiante recibirá el cualitativo de 0.5 añadido al promedio.\n",
        "\n",
        "Los datos recibidos corresponden a una lista que contiene las notas de algunos estudiantes y una variable con el cualitativo recibido.\n",
        "\n",
        "**¿Vamos a resolver este desafío?**\n",
        "\n",
        "Para facilitar nuestra comprensión del proceso, vamos a aplicar las notas de 5 estudiantes; sin embargo, puedes probar otros casos para practicar."
      ],
      "metadata": {
        "id": "1qk0gLdfFcbf"
      }
    },
    {
      "cell_type": "code",
      "source": [
        "# Notas del estudiante\n",
        "notas = [6.0, 7.0, 9.0, 5.5, 8.0]\n",
        "cualitativo = 0.5"
      ],
      "metadata": {
        "id": "RdoaWhuVI_OB"
      },
      "execution_count": 74,
      "outputs": []
    },
    {
      "cell_type": "code",
      "source": [
        "notas_cualitativas = lambda lista, cualitativo: [nota + cualitativo for nota in lista]\n",
        "notas_cualitativas(notas, cualitativo)"
      ],
      "metadata": {
        "id": "PzDfbv-kMq2t",
        "outputId": "ee4d2e88-ce52-455d-c27e-93f7d2aa5d4c",
        "colab": {
          "base_uri": "https://localhost:8080/"
        }
      },
      "execution_count": 75,
      "outputs": [
        {
          "output_type": "execute_result",
          "data": {
            "text/plain": [
              "[6.5, 7.5, 9.5, 6.0, 8.5]"
            ]
          },
          "metadata": {},
          "execution_count": 75
        }
      ]
    },
    {
      "cell_type": "code",
      "source": [],
      "metadata": {
        "id": "3YDQ39wFMq5u"
      },
      "execution_count": null,
      "outputs": []
    },
    {
      "cell_type": "markdown",
      "source": [
        "### Mapeando valores\n",
        "\n",
        "#### Formato estándar:\n",
        "\n",
        "```python\n",
        "map(<lambda function>, <iterador>)\n",
        "```"
      ],
      "metadata": {
        "id": "SOK4BC4mmKbG"
      }
    },
    {
      "cell_type": "code",
      "source": [
        "notas_actualizadas = map(lambda nota: nota + 0.5, notas)"
      ],
      "metadata": {
        "id": "ZbfpvfWJMsjv"
      },
      "execution_count": 76,
      "outputs": []
    },
    {
      "cell_type": "code",
      "source": [
        "notas_actualizadas"
      ],
      "metadata": {
        "id": "TA-zGLJfMseA",
        "outputId": "d2799a68-0282-4ace-be61-e33108db3d57",
        "colab": {
          "base_uri": "https://localhost:8080/"
        }
      },
      "execution_count": 77,
      "outputs": [
        {
          "output_type": "execute_result",
          "data": {
            "text/plain": [
              "<map at 0x7cc02756c220>"
            ]
          },
          "metadata": {},
          "execution_count": 77
        }
      ]
    },
    {
      "cell_type": "code",
      "source": [
        "notas_actualizadas = list(notas_actualizadas)\n",
        "notas_actualizadas"
      ],
      "metadata": {
        "id": "PrAppvR6MuKm",
        "outputId": "7d3f354d-b3de-4be5-dab9-3c6f6332a3b6",
        "colab": {
          "base_uri": "https://localhost:8080/"
        }
      },
      "execution_count": 78,
      "outputs": [
        {
          "output_type": "execute_result",
          "data": {
            "text/plain": [
              "[6.5, 7.5, 9.5, 6.0, 8.5]"
            ]
          },
          "metadata": {},
          "execution_count": 78
        }
      ]
    },
    {
      "cell_type": "code",
      "source": [
        "# nuestra función recibe una lista del tipo list y retorna una variable del tipo float\n",
        "# si no recibe ningún valor de parámetro, se pasará una lista con un único\n",
        "# elemento, siendo este cero\n",
        "def media(lista: list=[0]) -> float:\n",
        "  '''Función para calcular la media de notas pasadas por una lista\n",
        "\n",
        "  lista: list, default [0]\n",
        "    Lista con las notas para calcular la media\n",
        "  return = calculo: float\n",
        "    Media calculada\n",
        "  '''\n",
        "  calculo = sum(lista) / len(lista)\n",
        "  return calculo"
      ],
      "metadata": {
        "id": "vBgCXI4k1iWj"
      },
      "execution_count": 82,
      "outputs": []
    },
    {
      "cell_type": "code",
      "source": [
        "help(media)"
      ],
      "metadata": {
        "id": "yuaKpkWf1kSG",
        "outputId": "422ddb83-8c16-47a1-c215-b611aeafbde5",
        "colab": {
          "base_uri": "https://localhost:8080/"
        }
      },
      "execution_count": 83,
      "outputs": [
        {
          "output_type": "stream",
          "name": "stdout",
          "text": [
            "Help on function media in module __main__:\n",
            "\n",
            "media(lista: list = [0]) -> float\n",
            "    Función para calcular la media de notas pasadas por una lista\n",
            "    \n",
            "    lista: list, default [0]\n",
            "      Lista con las notas para calcular la media\n",
            "    return = calculo: float\n",
            "      Media calculada\n",
            "\n"
          ]
        }
      ]
    },
    {
      "cell_type": "code",
      "source": [
        "numeros = [1, 2, 3, 4, 5, 6, 7, 8, 9, 10]\n",
        "cuadrados = list(map(lambda x: x**2, numeros))\n",
        "print(cuadrados)"
      ],
      "metadata": {
        "id": "V4WOmL5k3zzo",
        "outputId": "0705739a-0b60-4c00-dbae-3c0968f2e188",
        "colab": {
          "base_uri": "https://localhost:8080/"
        }
      },
      "execution_count": 84,
      "outputs": [
        {
          "output_type": "stream",
          "name": "stdout",
          "text": [
            "[1, 4, 9, 16, 25, 36, 49, 64, 81, 100]\n"
          ]
        }
      ]
    },
    {
      "cell_type": "code",
      "source": [
        "notas_cualitativas = lambda lista, cualitativo: [nota + cualitativo for nota in lista]\n",
        "\n",
        "cuadrados = lambda x:[i**2 for i in x]\n",
        "print(cuadrados(numeros))"
      ],
      "metadata": {
        "id": "vXOViOX533dB",
        "outputId": "1d01b11b-3e15-40a1-864f-d86a24b9c87f",
        "colab": {
          "base_uri": "https://localhost:8080/"
        }
      },
      "execution_count": 87,
      "outputs": [
        {
          "output_type": "stream",
          "name": "stdout",
          "text": [
            "[1, 4, 9, 16, 25, 36, 49, 64, 81, 100]\n"
          ]
        }
      ]
    },
    {
      "cell_type": "code",
      "source": [
        "notas=[float(input(f\"Ingrese la nota {i+1}: \")) for i in range(2)]\n",
        "notas"
      ],
      "metadata": {
        "id": "xo8IeCmz6Oqt",
        "outputId": "de34cd52-5f2e-4da5-d6b4-0437e2bb57e0",
        "colab": {
          "base_uri": "https://localhost:8080/"
        }
      },
      "execution_count": 92,
      "outputs": [
        {
          "name": "stdout",
          "output_type": "stream",
          "text": [
            "Ingrese la nota 1: 7.5\n",
            "Ingrese la nota 2: 8\n"
          ]
        },
        {
          "output_type": "execute_result",
          "data": {
            "text/plain": [
              "[7.5, 8.0]"
            ]
          },
          "metadata": {},
          "execution_count": 92
        }
      ]
    },
    {
      "cell_type": "code",
      "source": [
        "nombres = [\"juan\", \"MaRia\", \"JOSÉ\"]\n",
        "sobrenombres = [\"SILVA\", \"sosa\", \"Tavares\"]\n",
        "\n",
        "# Normalizar nombres y apellidos y crear una nueva lista con los nombres completos\n",
        "\n",
        "nombres_completos = list(map(lambda x, y: f\"Nome completo: {x.capitalize()} {y.capitalize()}\", nombres, sobrenombres))\n",
        "print(nombres_completos)"
      ],
      "metadata": {
        "id": "fctbNcDd8IIk",
        "outputId": "ea759a9e-88e0-4748-c5f6-deb83f2972e2",
        "colab": {
          "base_uri": "https://localhost:8080/"
        }
      },
      "execution_count": 94,
      "outputs": [
        {
          "output_type": "stream",
          "name": "stdout",
          "text": [
            "['Nome completo: Juan Silva', 'Nome completo: Maria Sosa', 'Nome completo: José Tavares']\n"
          ]
        }
      ]
    },
    {
      "cell_type": "markdown",
      "source": [
        "## <font color=green> 3. ESTRUCTURAS DE DATOS COMPUESTAS\n",
        "---"
      ],
      "metadata": {
        "id": "DoB6wf2JCYf7"
      }
    },
    {
      "cell_type": "markdown",
      "source": [
        "## 3.1 Estructuras anidadas\n",
        "\n",
        "Previamente, aprendimos a manipular las listas, tuplas y diccionarios para trabajar con una secuencia o colección de valores sean numéricos, categóricos, etc. En esta aula, vamos a profundizar en otra situación común para la persona científica de datos que es trabajar con estos tipos de estructuras anidadas, o sea, cuando, por ejemplo, tenemos listas dentro de una lista."
      ],
      "metadata": {
        "id": "3or6MbnZDW_b"
      }
    },
    {
      "cell_type": "markdown",
      "source": [
        "### **Lista de listas**\n",
        "\n",
        "#### Formato estándar:\n",
        "\n",
        "```python\n",
        "[[a1, a2,...,an], [b1, b2,...,bn], ..., [n1, n2,...,nn]]\n",
        "```"
      ],
      "metadata": {
        "id": "fddus1G9HqB3"
      }
    },
    {
      "cell_type": "markdown",
      "source": [
        "#### **Situación 6:**\n",
        "\n",
        "Recibimos la demanda de transformar una lista con el nombre y las notas de tres trimestres de algunos estudiantes en una lista simple, con los nombres separados de las notas, y una lista de listas con las tres notas de cada estudiante separadas entre sí. Los datos recibidos corresponden a una lista con los nombres y las respectivas notas de cada estudiante.\n",
        "\n",
        "**¿Vamos a resolver este desafío?**\n",
        "\n",
        "Para facilitar nuestra comprensión del proceso, vamos a trabajar con un grupo de 5 estudiantes; sin embargo, puedes probar otros casos para practicar.\n"
      ],
      "metadata": {
        "id": "32K5LA11tFpz"
      }
    },
    {
      "cell_type": "code",
      "source": [
        "notas_grupo = ['Juan', 8.0, 9.0, 10.0, 'Maria', 9.0, 7.0, 6.0, 'José', 3.4, 7.0, 7.0, 'Claudia', 5.5, 6.6, 8.0, 'Ana', 6.0, 10.0, 9.5]"
      ],
      "metadata": {
        "id": "jlEP-c2YthpB"
      },
      "execution_count": 96,
      "outputs": []
    },
    {
      "cell_type": "code",
      "source": [
        "nombres=[]\n",
        "notas=[]\n",
        "for i in range(0,len(notas_grupo),4):\n",
        "  nombres.append(notas_grupo[i])\n",
        "  notas.append(notas_grupo[i+1:i+4])\n",
        "\n",
        "print(nombres)\n",
        "print(notas)"
      ],
      "metadata": {
        "id": "azR_cX-ILghB",
        "outputId": "17cd62b2-4b57-44cc-f5f3-d1e9632efc08",
        "colab": {
          "base_uri": "https://localhost:8080/"
        }
      },
      "execution_count": 104,
      "outputs": [
        {
          "output_type": "stream",
          "name": "stdout",
          "text": [
            "['Juan', 'Maria', 'José', 'Claudia', 'Ana']\n",
            "[[8.0, 9.0, 10.0], [9.0, 7.0, 6.0], [3.4, 7.0, 7.0], [5.5, 6.6, 8.0], [6.0, 10.0, 9.5]]\n"
          ]
        }
      ]
    },
    {
      "cell_type": "markdown",
      "source": [
        "### **Lista de tuplas**\n",
        "\n",
        "#### Formato estándar:\n",
        "\n",
        "```python\n",
        "[(a1, a2,...,an), (b1, b2,...,bn), ..., (n1, n2,...,nn)]\n",
        "```"
      ],
      "metadata": {
        "id": "SW0sVg68sK_z"
      }
    },
    {
      "cell_type": "markdown",
      "source": [
        "#### **Situación 7:**\n",
        "\n",
        "Necesitamos generar una lista de tuplas con los nombres de los estudiantes y el código ID de cada uno de ellos para la plataforma de análisis de datos. La creación del código consiste en concatenar la primera letra del nombre del estudiante con un número aleatorio de 0 a 999. Los datos recibidos corresponden a una lista con los nombres de cada estudiante.\n",
        "\n",
        "**¿Vamos a resolver este desafío?**\n",
        "\n",
        "Para facilitar nuestra comprensión del proceso, vamos a trabajar con un grupo de 5 estudiantes; sin embargo, puedes probar otros casos para practicar.\n"
      ],
      "metadata": {
        "id": "OId6jAZz5x2m"
      }
    },
    {
      "cell_type": "code",
      "source": [
        "nombres"
      ],
      "metadata": {
        "id": "YA1zJ0G6LkTy",
        "outputId": "06427690-aad5-4c60-deb1-18ac33ce46fa",
        "colab": {
          "base_uri": "https://localhost:8080/"
        }
      },
      "execution_count": 105,
      "outputs": [
        {
          "output_type": "execute_result",
          "data": {
            "text/plain": [
              "['Juan', 'Maria', 'José', 'Claudia', 'Ana']"
            ]
          },
          "metadata": {},
          "execution_count": 105
        }
      ]
    },
    {
      "cell_type": "code",
      "source": [
        "from random import randint"
      ],
      "metadata": {
        "id": "yBzPwhGiLkWa"
      },
      "execution_count": 106,
      "outputs": []
    },
    {
      "cell_type": "code",
      "source": [
        "lista_tuplas = [(nombre, str(nombre[0])+str(randint(0,999))) for nombre in nombres]\n",
        "lista_tuplas"
      ],
      "metadata": {
        "id": "9qgGAjSyLndK",
        "outputId": "793a01ea-8742-48dd-fa98-56b5072b061b",
        "colab": {
          "base_uri": "https://localhost:8080/"
        }
      },
      "execution_count": 112,
      "outputs": [
        {
          "output_type": "execute_result",
          "data": {
            "text/plain": [
              "[('Juan', 'J499'),\n",
              " ('Maria', 'M429'),\n",
              " ('José', 'J576'),\n",
              " ('Claudia', 'C615'),\n",
              " ('Ana', 'A848')]"
            ]
          },
          "metadata": {},
          "execution_count": 112
        }
      ]
    },
    {
      "cell_type": "code",
      "source": [],
      "metadata": {
        "id": "jVRxtOyeLngM"
      },
      "execution_count": null,
      "outputs": []
    },
    {
      "cell_type": "markdown",
      "source": [
        "## 3.2 List comprehension\n",
        "\n",
        "Es una forma simple y concisa de crear una lista. Podemos aplicar condicionales y lazos para crear diversos tipos de listas a partir de patrones que deseamos para nuestra estructura de datos.\n",
        "\n",
        "https://docs.python.org/es/3/tutorial/datastructures.html?#list-comprehensions\n",
        "\n",
        "#### Formato estándar:\n",
        "\n",
        "```python\n",
        "[expresion for item in lista]\n",
        "```"
      ],
      "metadata": {
        "id": "srHAov19QCdb"
      }
    },
    {
      "cell_type": "markdown",
      "source": [
        "#### **Situación 8:**\n",
        "\n",
        "Recibimos la demanda de crear una lista con el promedio de los estudiantes de la lista de listas que creamos en la Situación 6, redondeando el promedio a una casilla decimal. Recordando que cada lista de la lista de listas contiene las tres notas de cada estudiante.\n",
        "\n",
        "**¿Vamos a resolver este desafío?**\n",
        "\n",
        "**Tip:** Utiliza el formato:\n",
        "```python\n",
        "[expresion for item in lista]\n",
        "```"
      ],
      "metadata": {
        "id": "l4HW0gDqecgM"
      }
    },
    {
      "cell_type": "code",
      "source": [
        "def promedio(lista: list=[0]) -> float:\n",
        "  ''' Función para calcular el promedio de notas en una lista\n",
        "\n",
        "  lista: list, default [0]\n",
        "    Lista con las notas para calcular el promedio\n",
        "  return = calculo: float\n",
        "    Promedio calculado\n",
        "  '''\n",
        "\n",
        "  calculo = sum(lista) / len(lista)\n",
        "\n",
        "  return calculo"
      ],
      "metadata": {
        "id": "J_atQRQdlpNe"
      },
      "execution_count": 113,
      "outputs": []
    },
    {
      "cell_type": "code",
      "source": [
        "notas"
      ],
      "metadata": {
        "id": "h7LeBrgnLAG6",
        "outputId": "3d08964f-b6ee-4d29-960c-14bab639cc7a",
        "colab": {
          "base_uri": "https://localhost:8080/"
        }
      },
      "execution_count": 114,
      "outputs": [
        {
          "output_type": "execute_result",
          "data": {
            "text/plain": [
              "[[8.0, 9.0, 10.0],\n",
              " [9.0, 7.0, 6.0],\n",
              " [3.4, 7.0, 7.0],\n",
              " [5.5, 6.6, 8.0],\n",
              " [6.0, 10.0, 9.5]]"
            ]
          },
          "metadata": {},
          "execution_count": 114
        }
      ]
    },
    {
      "cell_type": "code",
      "source": [
        "promedios = [round(promedio(nota),1) for nota in notas]\n",
        "promedios"
      ],
      "metadata": {
        "id": "3j8_H7e8LAJZ",
        "outputId": "6f79a710-bb52-4d35-aff1-60b68ffc3651",
        "colab": {
          "base_uri": "https://localhost:8080/"
        }
      },
      "execution_count": 118,
      "outputs": [
        {
          "output_type": "execute_result",
          "data": {
            "text/plain": [
              "[9.0, 7.3, 5.8, 6.7, 8.5]"
            ]
          },
          "metadata": {},
          "execution_count": 118
        }
      ]
    },
    {
      "cell_type": "markdown",
      "source": [
        "#### **Situación 9:**\n",
        "\n",
        "Ahora, necesitamos utilizar los promedios calculados en el ejemplo anterior, y agruparlos con el nombre de los respectivos estudiantes. Esto será necesario para generar una lista que seleccione a aquellos estudiantes que posean un promedio final mayor o igual a 8 para concursar por una beca de estudios para el próximo año lectivo. Los datos recibidos corresponden a una lista de tuplas con los nombres y los códigos de los estudiantes junto a la lista de promedios calculados previamente.\n",
        "\n",
        "**Nota: El número de código será diferente cada vez que se ejecute la celda que los genera, por lo tanto, es completamente normal que estos códigos sean diferentes.**\n",
        "\n",
        "**¿Vamos a resolver este desafío?**\n",
        "\n",
        "Para facilitar nuestra comprensión del proceso vamos a trabajar con un grupo de 5 estudiantes.\n",
        "\n",
        "**Tip:** Utiliza el formato:\n",
        "\n",
        "```python\n",
        "[expresion for item in lista if condicion]\n",
        "```"
      ],
      "metadata": {
        "id": "ApLjXlAdhJKd"
      }
    },
    {
      "cell_type": "code",
      "source": [
        "promedios\n"
      ],
      "metadata": {
        "id": "QK-ubmmrLC7I",
        "outputId": "98ed0083-b710-492f-c683-47772fab5410",
        "colab": {
          "base_uri": "https://localhost:8080/"
        }
      },
      "execution_count": 119,
      "outputs": [
        {
          "output_type": "execute_result",
          "data": {
            "text/plain": [
              "[9.0, 7.3, 5.8, 6.7, 8.5]"
            ]
          },
          "metadata": {},
          "execution_count": 119
        }
      ]
    },
    {
      "cell_type": "code",
      "source": [
        "nombres = [nombre[0] for nombre in lista_tuplas]\n",
        "nombres"
      ],
      "metadata": {
        "id": "df1Q8GGELC9b",
        "outputId": "12122131-850a-48cd-f318-c8bbb42cbd7d",
        "colab": {
          "base_uri": "https://localhost:8080/"
        }
      },
      "execution_count": 121,
      "outputs": [
        {
          "output_type": "execute_result",
          "data": {
            "text/plain": [
              "['Juan', 'Maria', 'José', 'Claudia', 'Ana']"
            ]
          },
          "metadata": {},
          "execution_count": 121
        }
      ]
    },
    {
      "cell_type": "markdown",
      "source": [
        "<font color=green>**Tip:**</font> Para lograr parear los promedios y\n",
        "los nombres fácilmente, podemos acudir a otra  built-in function: `zip()`\n",
        "\n",
        "Esta recibe uno o más iterables (lista, string, dict, etc.) y los retorna como un iterador de tuplas donde cada elemento de los iterables es pareado."
      ],
      "metadata": {
        "id": "U6KAABs7Dfpe"
      }
    },
    {
      "cell_type": "code",
      "source": [
        "tuplas = list(zip(nombres, promedios))\n",
        "tuplas"
      ],
      "metadata": {
        "id": "841v92WvLEol",
        "outputId": "5b83a1a7-36a2-4011-f5b8-8a03f58962a1",
        "colab": {
          "base_uri": "https://localhost:8080/"
        }
      },
      "execution_count": 125,
      "outputs": [
        {
          "output_type": "execute_result",
          "data": {
            "text/plain": [
              "[('Juan', 9.0), ('Maria', 7.3), ('José', 5.8), ('Claudia', 6.7), ('Ana', 8.5)]"
            ]
          },
          "metadata": {},
          "execution_count": 125
        }
      ]
    },
    {
      "cell_type": "code",
      "source": [
        "candidatos = [tupla[0] for tupla in tuplas if tupla[1]>=8]\n",
        "candidatos"
      ],
      "metadata": {
        "id": "U8b4G_2oLErp",
        "outputId": "44f0e0b8-6bec-4774-97dd-4c445f774cd7",
        "colab": {
          "base_uri": "https://localhost:8080/"
        }
      },
      "execution_count": 130,
      "outputs": [
        {
          "output_type": "execute_result",
          "data": {
            "text/plain": [
              "['Juan', 'Ana']"
            ]
          },
          "metadata": {},
          "execution_count": 130
        }
      ]
    },
    {
      "cell_type": "markdown",
      "source": [
        "#### **Situación 10:**\n",
        "\n",
        "Recibimos dos demandas sobre este proyecto con las notas de los estudiantes:\n",
        "- Crear una lista de la situación de los estudiantes considerando los siguientes casos: Si su promedio es mayor o igual a 7, recibirá el valor \"Aprobado\" y en caso contrario recibirá el valor \"Reprobado\".\n",
        "- Generar una lista de listas con:\n",
        "  - Lista de tuplas con el nombre de los estudiantes y sus códigos\n",
        "  - Lista de listas con las notas de cada estudiante\n",
        "  - Lista con los promedios de cada estudiante\n",
        "  - Lista de la situación de los estudiantes de acuerdo con los promedios\n",
        "\n",
        "Los datos que utilizaremos son los mismos que generamos en las situaciones anteriores (`nombres`, `notas`, `promedios`).\n",
        "\n",
        "**¿Vamos a resolver este desafío?**\n",
        "\n",
        "Para avanzar en el proceso, vamos a dejar escritas las estructuras de datos que ya produjimos.\n",
        "\n",
        "**Tip:** Para la lista de las situaciones utiliza el formato:\n",
        "```python\n",
        "[resultado_if if condicion else resultado_else for item in lista]\n",
        "```"
      ],
      "metadata": {
        "id": "9yzRDIB0fkeF"
      }
    },
    {
      "cell_type": "code",
      "source": [
        "print(nombres)\n",
        "print(notas)\n",
        "print(promedios)"
      ],
      "metadata": {
        "id": "YGQIaCzkLGqd",
        "outputId": "84e7ecd1-84e5-4055-8774-1a6730f594d3",
        "colab": {
          "base_uri": "https://localhost:8080/"
        }
      },
      "execution_count": 131,
      "outputs": [
        {
          "output_type": "stream",
          "name": "stdout",
          "text": [
            "['Juan', 'Maria', 'José', 'Claudia', 'Ana']\n",
            "[[8.0, 9.0, 10.0], [9.0, 7.0, 6.0], [3.4, 7.0, 7.0], [5.5, 6.6, 8.0], [6.0, 10.0, 9.5]]\n",
            "[9.0, 7.3, 5.8, 6.7, 8.5]\n"
          ]
        }
      ]
    },
    {
      "cell_type": "code",
      "source": [
        "situacion = [\"Aprobado(a)\" if promedio >= 7 else \"Reprobado(a)\" for promedio in promedios]\n",
        "situacion"
      ],
      "metadata": {
        "id": "OAAQHwE1LGs2",
        "outputId": "a460672b-03ff-44af-8019-0b92f6daf7e7",
        "colab": {
          "base_uri": "https://localhost:8080/"
        }
      },
      "execution_count": 133,
      "outputs": [
        {
          "output_type": "execute_result",
          "data": {
            "text/plain": [
              "['Aprobado(a)', 'Aprobado(a)', 'Reprobado(a)', 'Reprobado(a)', 'Aprobado(a)']"
            ]
          },
          "metadata": {},
          "execution_count": 133
        }
      ]
    },
    {
      "cell_type": "markdown",
      "source": [
        "**Tip:** Para generar la lista de listas del enunciado podemos utilizar el siguiente formato:\n",
        "```python\n",
        "[expresion for item in lista de listas]\n",
        "```"
      ],
      "metadata": {
        "id": "0XsAi49IF9Ta"
      }
    },
    {
      "cell_type": "code",
      "source": [
        "registros = [x for x in [lista_tuplas, notas, promedios, situacion]]\n",
        "registros"
      ],
      "metadata": {
        "id": "1Dj6R1vTLIbI",
        "outputId": "3d56d462-3841-411e-8535-e3c7dc64e7ac",
        "colab": {
          "base_uri": "https://localhost:8080/"
        }
      },
      "execution_count": 138,
      "outputs": [
        {
          "output_type": "execute_result",
          "data": {
            "text/plain": [
              "[[('Juan', 'J499'),\n",
              "  ('Maria', 'M429'),\n",
              "  ('José', 'J576'),\n",
              "  ('Claudia', 'C615'),\n",
              "  ('Ana', 'A848')],\n",
              " [[8.0, 9.0, 10.0],\n",
              "  [9.0, 7.0, 6.0],\n",
              "  [3.4, 7.0, 7.0],\n",
              "  [5.5, 6.6, 8.0],\n",
              "  [6.0, 10.0, 9.5]],\n",
              " [9.0, 7.3, 5.8, 6.7, 8.5],\n",
              " ['Aprobado(a)', 'Aprobado(a)', 'Reprobado(a)', 'Reprobado(a)', 'Aprobado(a)']]"
            ]
          },
          "metadata": {},
          "execution_count": 138
        }
      ]
    },
    {
      "cell_type": "markdown",
      "source": [
        "<font color=green>**Tip:**</font> Podemos acudir a la forma más simple de generación de lista de listas con el uso directo de los corchetes sin la necesidad de utilizar las expresiones y el lazo `for` que se emplea en la comprensión de listas."
      ],
      "metadata": {
        "id": "4hkHEZGbGH7X"
      }
    },
    {
      "cell_type": "code",
      "source": [
        "registros = [lista_tuplas, notas, promedios, situacion]\n",
        "registros"
      ],
      "metadata": {
        "id": "1tEtWzSoLKKg",
        "outputId": "15091b77-7936-4f62-b679-bcf70a0b522d",
        "colab": {
          "base_uri": "https://localhost:8080/"
        }
      },
      "execution_count": 139,
      "outputs": [
        {
          "output_type": "execute_result",
          "data": {
            "text/plain": [
              "[[('Juan', 'J499'),\n",
              "  ('Maria', 'M429'),\n",
              "  ('José', 'J576'),\n",
              "  ('Claudia', 'C615'),\n",
              "  ('Ana', 'A848')],\n",
              " [[8.0, 9.0, 10.0],\n",
              "  [9.0, 7.0, 6.0],\n",
              "  [3.4, 7.0, 7.0],\n",
              "  [5.5, 6.6, 8.0],\n",
              "  [6.0, 10.0, 9.5]],\n",
              " [9.0, 7.3, 5.8, 6.7, 8.5],\n",
              " ['Aprobado(a)', 'Aprobado(a)', 'Reprobado(a)', 'Reprobado(a)', 'Aprobado(a)']]"
            ]
          },
          "metadata": {},
          "execution_count": 139
        }
      ]
    },
    {
      "cell_type": "code",
      "source": [],
      "metadata": {
        "id": "lRk02Bm5LMB3"
      },
      "execution_count": null,
      "outputs": []
    },
    {
      "cell_type": "markdown",
      "source": [
        "## 3.3 Dict comprehension\n",
        "\n",
        "Es una forma simple y concisa de crear o modificar un diccionario. Podemos aplicar condicionales y lazos para crear diversos tipos de diccionarios a partir de los patrones que buscamos para nuestra estructura de datos y con el soporte de iterables como listas o sets.\n",
        "\n",
        "https://peps.python.org/pep-0274/\n",
        "\n",
        "#### Formato estándar:\n",
        "\n",
        "```python\n",
        "{llave: valor for item in lista}\n",
        "```"
      ],
      "metadata": {
        "id": "NmohhDl-QRpx"
      }
    },
    {
      "cell_type": "markdown",
      "source": [
        "#### **Situación 11:**\n",
        "\n",
        "Ahora, nuestra demanda consiste en generar un diccionario a partir de la lista de listas que creamos en la Situación 10 para entregar a la persona responsable por construir las tablas para el análisis de los datos.\n",
        "- Las llaves de nuestro diccionario serán las columnas identificando el tipo de dato\n",
        "- Los valores serán las listas con los datos correspondientes a aquella llave.\n",
        "\n",
        "**¿Vamos a resolver este desafío?**\n",
        "\n",
        "Para facilitar nuestra comprensión del proceso vamos a trabajar con un grupo de 5 estudiantes.\n",
        "\n",
        "**Tip:** Utiliza el formato\n",
        "\n",
        "```python\n",
        "{llave: valor for item in lista}\n",
        "```"
      ],
      "metadata": {
        "id": "kGt8hQXOKeIt"
      }
    },
    {
      "cell_type": "code",
      "source": [
        "registros"
      ],
      "metadata": {
        "id": "GuTwYw8NLNST",
        "outputId": "cc5660b3-9434-4397-884b-f773af187ea0",
        "colab": {
          "base_uri": "https://localhost:8080/"
        }
      },
      "execution_count": 140,
      "outputs": [
        {
          "output_type": "execute_result",
          "data": {
            "text/plain": [
              "[[('Juan', 'J499'),\n",
              "  ('Maria', 'M429'),\n",
              "  ('José', 'J576'),\n",
              "  ('Claudia', 'C615'),\n",
              "  ('Ana', 'A848')],\n",
              " [[8.0, 9.0, 10.0],\n",
              "  [9.0, 7.0, 6.0],\n",
              "  [3.4, 7.0, 7.0],\n",
              "  [5.5, 6.6, 8.0],\n",
              "  [6.0, 10.0, 9.5]],\n",
              " [9.0, 7.3, 5.8, 6.7, 8.5],\n",
              " ['Aprobado(a)', 'Aprobado(a)', 'Reprobado(a)', 'Reprobado(a)', 'Aprobado(a)']]"
            ]
          },
          "metadata": {},
          "execution_count": 140
        }
      ]
    },
    {
      "cell_type": "code",
      "source": [
        "columnas = ['Estudiante', 'Notas', 'Promedio Final', 'Situación']"
      ],
      "metadata": {
        "id": "Ka1JPCuvLP4x"
      },
      "execution_count": 153,
      "outputs": []
    },
    {
      "cell_type": "code",
      "source": [
        "registro0 = {columnas[i]: [(registros[i][j][0] if columnas[i] == 'Estudiante' else registros[i][j]) for j in range(len(registros[i]))] for i in range(len(columnas))}\n",
        "\n",
        "print(registro0)\n"
      ],
      "metadata": {
        "id": "4GhlzfLbLP8L",
        "outputId": "92ad7167-78d1-471b-a08b-e26568d6e31d",
        "colab": {
          "base_uri": "https://localhost:8080/"
        }
      },
      "execution_count": 154,
      "outputs": [
        {
          "output_type": "stream",
          "name": "stdout",
          "text": [
            "{'Estudiante': ['Juan', 'Maria', 'José', 'Claudia', 'Ana'], 'Notas': [[8.0, 9.0, 10.0], [9.0, 7.0, 6.0], [3.4, 7.0, 7.0], [5.5, 6.6, 8.0], [6.0, 10.0, 9.5]], 'Promedio Final': [9.0, 7.3, 5.8, 6.7, 8.5], 'Situación': ['Aprobado(a)', 'Aprobado(a)', 'Reprobado(a)', 'Reprobado(a)', 'Aprobado(a)']}\n"
          ]
        }
      ]
    },
    {
      "cell_type": "code",
      "source": [
        "lista_de_listas = [[4, 6, 5, 9], [1, 0, 7, 2], [3, 4, 1, 8]]"
      ],
      "metadata": {
        "id": "FNwZNG8UODl-"
      },
      "execution_count": 155,
      "outputs": []
    },
    {
      "cell_type": "code",
      "source": [
        "sumas = [sum(lista) for lista in lista_de_listas]\n",
        "sumas"
      ],
      "metadata": {
        "id": "DwRZmXaDOE4-",
        "outputId": "9429d39e-ed39-43b7-912a-835dc12b9562",
        "colab": {
          "base_uri": "https://localhost:8080/"
        }
      },
      "execution_count": 156,
      "outputs": [
        {
          "output_type": "execute_result",
          "data": {
            "text/plain": [
              "[24, 10, 16]"
            ]
          },
          "metadata": {},
          "execution_count": 156
        }
      ]
    },
    {
      "cell_type": "code",
      "source": [
        "lista_de_tuplas = [('Pedro', 1.74, 81), ('Júlia', 1.65, 67), ('Otávio', 1.81, 83)]"
      ],
      "metadata": {
        "id": "jIsq_qMAOPmP"
      },
      "execution_count": 157,
      "outputs": []
    },
    {
      "cell_type": "code",
      "source": [
        "tercer_elemento = [tupla[2] for tupla in lista_de_tuplas]\n",
        "tercer_elemento"
      ],
      "metadata": {
        "id": "iHBj4z4bOPuY",
        "outputId": "310a1c6c-5762-4495-aa9a-89bc7538288d",
        "colab": {
          "base_uri": "https://localhost:8080/"
        }
      },
      "execution_count": 158,
      "outputs": [
        {
          "output_type": "execute_result",
          "data": {
            "text/plain": [
              "[81, 67, 83]"
            ]
          },
          "metadata": {},
          "execution_count": 158
        }
      ]
    },
    {
      "cell_type": "code",
      "source": [
        "lista = ['Pedro', 'Júlia', 'Otávio', 'Eduardo']"
      ],
      "metadata": {
        "id": "HX5AYMu0OPw9"
      },
      "execution_count": 159,
      "outputs": []
    },
    {
      "cell_type": "code",
      "source": [
        "lista_tupla_posicion_nombre = [(i, lista[i]) for i in range(len(lista))]\n",
        "lista_tupla_posicion_nombre"
      ],
      "metadata": {
        "id": "2TqQMw7oOPzp",
        "outputId": "3da156f3-c6dc-42eb-8828-fce7c00143b9",
        "colab": {
          "base_uri": "https://localhost:8080/"
        }
      },
      "execution_count": 161,
      "outputs": [
        {
          "output_type": "execute_result",
          "data": {
            "text/plain": [
              "[(0, 'Pedro'), (1, 'Júlia'), (2, 'Otávio'), (3, 'Eduardo')]"
            ]
          },
          "metadata": {},
          "execution_count": 161
        }
      ]
    },
    {
      "cell_type": "code",
      "source": [
        "alquiler = [('Apartamento', 1700), ('Apartamento', 1400), ('Casa', 2150), ('Apartamento', 1900), ('Casa', 1100)]"
      ],
      "metadata": {
        "id": "YSMMBiAjOP31"
      },
      "execution_count": 162,
      "outputs": []
    },
    {
      "cell_type": "code",
      "source": [
        "valores_alquiler_aptos = [tupla[1] for tupla in alquiler if tupla[0]==\"Apartamento\"]\n",
        "valores_alquiler_aptos"
      ],
      "metadata": {
        "id": "8A6WI405OP6c",
        "outputId": "842685fc-581f-4987-fb30-cf3244f09bde",
        "colab": {
          "base_uri": "https://localhost:8080/"
        }
      },
      "execution_count": 189,
      "outputs": [
        {
          "output_type": "execute_result",
          "data": {
            "text/plain": [
              "[1700, 1400, 1900]"
            ]
          },
          "metadata": {},
          "execution_count": 189
        }
      ]
    },
    {
      "cell_type": "code",
      "source": [
        "meses = ['Jan', 'Fev', 'Mar', 'Abr', 'Mai', 'Jun', 'Jul', 'Ago', 'Set', 'Out', 'Nov', 'Dez']"
      ],
      "metadata": {
        "id": "n5WTB8CDPGzZ"
      },
      "execution_count": 165,
      "outputs": []
    },
    {
      "cell_type": "code",
      "source": [
        "gasto = [860, 490, 1010, 780, 900, 630, 590, 770, 620, 560, 840, 360]"
      ],
      "metadata": {
        "id": "gfl1xR8APG5u"
      },
      "execution_count": 166,
      "outputs": []
    },
    {
      "cell_type": "code",
      "source": [
        "dicccionario_gastos = {meses[i]: gasto[i] for i in range(len(meses))}\n",
        "dicccionario_gastos"
      ],
      "metadata": {
        "id": "tC8wPDNlPG9v",
        "outputId": "1c560c50-42d5-4010-a30a-6531a9672a25",
        "colab": {
          "base_uri": "https://localhost:8080/"
        }
      },
      "execution_count": 167,
      "outputs": [
        {
          "output_type": "execute_result",
          "data": {
            "text/plain": [
              "{'Jan': 860,\n",
              " 'Fev': 490,\n",
              " 'Mar': 1010,\n",
              " 'Abr': 780,\n",
              " 'Mai': 900,\n",
              " 'Jun': 630,\n",
              " 'Jul': 590,\n",
              " 'Ago': 770,\n",
              " 'Set': 620,\n",
              " 'Out': 560,\n",
              " 'Nov': 840,\n",
              " 'Dez': 360}"
            ]
          },
          "metadata": {},
          "execution_count": 167
        }
      ]
    },
    {
      "cell_type": "code",
      "source": [
        "ventas = [('2023', 4093), ('2021', 4320), ('2021', 5959), ('2022', 8883), ('2023', 9859), ('2022', 5141), ('2022', 7688), ('2022', 9544), ('2023', 4794), ('2021', 7178), ('2022', 3030), ('2021', 7471), ('2022', 4226), ('2022', 8190), ('2021', 9680), ('2022', 5616)]"
      ],
      "metadata": {
        "id": "0j0j8ANyPHAS"
      },
      "execution_count": 169,
      "outputs": []
    },
    {
      "cell_type": "markdown",
      "source": [],
      "metadata": {
        "id": "NhimZuGSPnGk"
      }
    },
    {
      "cell_type": "code",
      "source": [
        "lista_ventas = [tupla[1] for tupla in ventas if tupla[0] == \"2022\" and tupla[1] > 6000]\n",
        "lista_ventas"
      ],
      "metadata": {
        "id": "4MQe0OtJPHCt",
        "outputId": "58f2632e-552c-4138-9846-d7e13ae0e6fe",
        "colab": {
          "base_uri": "https://localhost:8080/"
        }
      },
      "execution_count": 190,
      "outputs": [
        {
          "output_type": "execute_result",
          "data": {
            "text/plain": [
              "[8883, 7688, 9544, 8190]"
            ]
          },
          "metadata": {},
          "execution_count": 190
        }
      ]
    },
    {
      "cell_type": "code",
      "source": [
        "glicemia = [129, 82, 60, 97, 101, 65, 62, 167, 87, 53, 58, 92, 66, 120, 109, 62, 86, 96, 103, 88, 155, 52, 89, 73]"
      ],
      "metadata": {
        "id": "zoIhiqRMPHH0"
      },
      "execution_count": 175,
      "outputs": []
    },
    {
      "cell_type": "code",
      "source": [
        "def valor_glicemico(valor) -> str:\n",
        "  if valor <= 70:\n",
        "    return \"Bajo\"\n",
        "  elif valor <= 99:\n",
        "    return \"Normal\"\n",
        "  elif valor <= 125:\n",
        "    return \"Elevado\"\n",
        "  else:\n",
        "    return \"Diabetes\""
      ],
      "metadata": {
        "id": "VQr9Gf_ePHKk"
      },
      "execution_count": 177,
      "outputs": []
    },
    {
      "cell_type": "code",
      "source": [
        "lista_tuplas_glucosa = [(glicemia[i], valor_glicemico(glicemia[i])) for i in range(len(glicemia))]\n",
        "lista_tuplas_glucosa"
      ],
      "metadata": {
        "id": "9Zi6mTQYPHFQ",
        "outputId": "ecfd63a4-cbea-48e0-e822-2343ee15ee6a",
        "colab": {
          "base_uri": "https://localhost:8080/"
        }
      },
      "execution_count": 178,
      "outputs": [
        {
          "output_type": "execute_result",
          "data": {
            "text/plain": [
              "[(129, 'Diabetes'),\n",
              " (82, 'Normal'),\n",
              " (60, 'Bajo'),\n",
              " (97, 'Normal'),\n",
              " (101, 'Elevado'),\n",
              " (65, 'Bajo'),\n",
              " (62, 'Bajo'),\n",
              " (167, 'Diabetes'),\n",
              " (87, 'Normal'),\n",
              " (53, 'Bajo'),\n",
              " (58, 'Bajo'),\n",
              " (92, 'Normal'),\n",
              " (66, 'Bajo'),\n",
              " (120, 'Elevado'),\n",
              " (109, 'Elevado'),\n",
              " (62, 'Bajo'),\n",
              " (86, 'Normal'),\n",
              " (96, 'Normal'),\n",
              " (103, 'Elevado'),\n",
              " (88, 'Normal'),\n",
              " (155, 'Diabetes'),\n",
              " (52, 'Bajo'),\n",
              " (89, 'Normal'),\n",
              " (73, 'Normal')]"
            ]
          },
          "metadata": {},
          "execution_count": 178
        }
      ]
    },
    {
      "cell_type": "code",
      "source": [
        "etiquetas = [('Hipoglicemia', glucosa) if glucosa<= 70 else ('Normal', glucosa) if glucosa< 100 else ('Alterada', glucosa) if glucosa< 125 else ('Diabetes', glucosa) for glucosa in glicemia]\n",
        "print(etiquetas)"
      ],
      "metadata": {
        "id": "1-lTHf5oT7hT",
        "outputId": "05c6139f-140f-4c17-82d6-0a642d4a6c9b",
        "colab": {
          "base_uri": "https://localhost:8080/"
        }
      },
      "execution_count": 191,
      "outputs": [
        {
          "output_type": "stream",
          "name": "stdout",
          "text": [
            "[('Diabetes', 129), ('Normal', 82), ('Hipoglicemia', 60), ('Normal', 97), ('Alterada', 101), ('Hipoglicemia', 65), ('Hipoglicemia', 62), ('Diabetes', 167), ('Normal', 87), ('Hipoglicemia', 53), ('Hipoglicemia', 58), ('Normal', 92), ('Hipoglicemia', 66), ('Alterada', 120), ('Alterada', 109), ('Hipoglicemia', 62), ('Normal', 86), ('Normal', 96), ('Alterada', 103), ('Normal', 88), ('Diabetes', 155), ('Hipoglicemia', 52), ('Normal', 89), ('Normal', 73)]\n"
          ]
        }
      ]
    },
    {
      "cell_type": "code",
      "source": [
        "id = [0, 1, 2, 3, 4, 5, 6, 7, 8, 9]\n",
        "cantidad = [15, 12, 1, 15, 2, 11, 2, 12, 2, 4]\n",
        "precio = [93.0, 102.0, 18.0, 41.0, 122.0, 14.0, 71.0, 48.0, 14.0, 144.0]"
      ],
      "metadata": {
        "id": "cMk0mrQyQ_5c"
      },
      "execution_count": 179,
      "outputs": []
    },
    {
      "cell_type": "code",
      "source": [
        "lista_tuplas_comercio = [(id[i], cantidad[i], precio[i], cantidad[i]*precio[i]) for i in range(len(id))]\n",
        "lista_tuplas_comercio.insert(0, (\"ID\", \"Cantidad\", \"Precio\", \" Valor Total\"))\n",
        "lista_tuplas_comercio"
      ],
      "metadata": {
        "id": "2MBjiRt8RAI5",
        "outputId": "e3eaf700-abd6-49b0-add8-c1d6d797e423",
        "colab": {
          "base_uri": "https://localhost:8080/"
        }
      },
      "execution_count": 181,
      "outputs": [
        {
          "output_type": "execute_result",
          "data": {
            "text/plain": [
              "[('ID', 'Cantidad', 'Precio', ' Valor Total'),\n",
              " (0, 15, 93.0, 1395.0),\n",
              " (1, 12, 102.0, 1224.0),\n",
              " (2, 1, 18.0, 18.0),\n",
              " (3, 15, 41.0, 615.0),\n",
              " (4, 2, 122.0, 244.0),\n",
              " (5, 11, 14.0, 154.0),\n",
              " (6, 2, 71.0, 142.0),\n",
              " (7, 12, 48.0, 576.0),\n",
              " (8, 2, 14.0, 28.0),\n",
              " (9, 4, 144.0, 576.0)]"
            ]
          },
          "metadata": {},
          "execution_count": 181
        }
      ]
    },
    {
      "cell_type": "code",
      "source": [
        "estados =['CMX', 'OAX', 'PUE', 'PUE', 'CMX', 'PUE', 'OAX', 'OAX', 'OAX', 'CMX', 'CMX', 'PUE', 'OAX', 'CMX', 'VER', 'PUE', 'VER', 'CMX', 'PUE', 'CMX', 'OAX', 'CMX', 'PUE']"
      ],
      "metadata": {
        "id": "CVGIl0MaRALB"
      },
      "execution_count": 182,
      "outputs": []
    },
    {
      "cell_type": "code",
      "source": [
        "# Crear un diccionario con la cantidad de sucursales en cada estado\n",
        "conteo_estados = {estado: estados.count(estado) for estado in set(estados)}\n",
        "\n",
        "# Imprimir el resultado\n",
        "print(conteo_estados)"
      ],
      "metadata": {
        "id": "U7m4LyhhRANM",
        "outputId": "708ba794-3272-4aa0-a90b-2c00029b6712",
        "colab": {
          "base_uri": "https://localhost:8080/"
        }
      },
      "execution_count": 183,
      "outputs": [
        {
          "output_type": "stream",
          "name": "stdout",
          "text": [
            "{'CMX': 8, 'VER': 2, 'PUE': 7, 'OAX': 6}\n"
          ]
        }
      ]
    },
    {
      "cell_type": "code",
      "source": [
        "empleados = [('CMX', 16), ('OAX', 8), ('PUE', 9), ('PUE', 6), ('CMX', 10), ('PUE', 4), ('OAX',9),  ('OAX', 7), ('OAX', 12), ('CMX', 7), ('CMX', 11), ('PUE',8), ('OAX',8), ('CMX',9), ('VER', 13), ('PUE', 5),  ('VER', 9), ('CMX', 12), ('PUE', 10), ('CMX', 7), ('OAX', 14), ('CMX', 10), ('PUE', 12)]"
      ],
      "metadata": {
        "id": "qV956foMRrPh"
      },
      "execution_count": 184,
      "outputs": []
    },
    {
      "cell_type": "code",
      "source": [
        "from collections import defaultdict\n",
        "# 1️⃣ Diccionario donde los valores son listas con los números de empleados por estado\n",
        "empleados_por_estado = defaultdict(list)\n",
        "for estado, num in empleados:\n",
        "    empleados_por_estado[estado].append(num)\n",
        "\n",
        "# Convertimos defaultdict a un diccionario normal\n",
        "empleados_por_estado = dict(empleados_por_estado)\n",
        "\n",
        "# 2️⃣ Diccionario donde los valores son la suma total de empleados por estado\n",
        "suma_empleados_por_estado = {estado: sum(lista) for estado, lista in empleados_por_estado.items()}\n",
        "\n",
        "# Imprimir los resultados\n",
        "print(\"Empleados por estado (listas):\", empleados_por_estado)\n",
        "print(\"Suma de empleados por estado:\", suma_empleados_por_estado)"
      ],
      "metadata": {
        "id": "imjlVYFURrRd",
        "outputId": "4d412c5e-5825-4ad3-b2cf-34eb69bfc592",
        "colab": {
          "base_uri": "https://localhost:8080/"
        }
      },
      "execution_count": 188,
      "outputs": [
        {
          "output_type": "stream",
          "name": "stdout",
          "text": [
            "Empleados por estado (listas): {'CMX': [16, 10, 7, 11, 9, 12, 7, 10], 'OAX': [8, 9, 7, 12, 8, 14], 'PUE': [9, 6, 4, 8, 5, 10, 12], 'VER': [13, 9]}\n",
            "Suma de empleados por estado: {'CMX': 82, 'OAX': 58, 'PUE': 54, 'VER': 22}\n"
          ]
        }
      ]
    },
    {
      "cell_type": "markdown",
      "source": [
        "## <font color=green> 4. LIDIANDO CON EXCEPCIONES\n",
        "---"
      ],
      "metadata": {
        "id": "RxKC5WVoCYp3"
      }
    },
    {
      "cell_type": "markdown",
      "source": [
        "Hemos podido evidenciar hasta aquí la existencia de algunos errores y excepciones en la ejecución de algún comando. Como científico/a de datos o programador, necesitarás estar atento a estas situaciones para evitar bugs o problemas en tus códigos y análisis que puedan afectar la experiencia tanto del usuario como la eficiencia de su análisis.\n",
        "\n",
        "Existen básicamente dos formas distintas de errores: Los **errores de sintáxis** y las **excepciones**.\n",
        "\n",
        "Las excepciones son errores detectados durante la ejecución e interrumpen el flujo del programa cerrándolo en caso de que no sean tratadas.  \n",
        "\n",
        "Vamos a aprender a identificar y tratar algunas de las excepciones aquí, pero es siempre importante consultar la documentación para investigar y verificar cuáles se ajustan a sus proyectos.\n",
        "\n",
        "**Documentación sobre errores y excepciones:** https://docs.python.org/es/3/tutorial/errors.html"
      ],
      "metadata": {
        "id": "MzOZ_0M3CU1x"
      }
    },
    {
      "cell_type": "markdown",
      "source": [
        "## 4.1 Tratando las Excepciones\n",
        "\n",
        "El tratamiento de las excepciones contribuye a establecer un flujo alternativo para la ejecución del código evitando la interrupción de los procesos inesperadamente.\n",
        "\n",
        "Existe una serie de excepciones, y a partir del comportamiento que queremos, y de los errores que queremos tratar, es posible construir un camino para el usuario, o también, proveer más detalles sobre aquella excepción.\n",
        "\n",
        "- Jerarquía de las excepciones (https://docs.python.org/es/3/library/exceptions.html#exception-hierarchy)"
      ],
      "metadata": {
        "id": "x3E66krBST7K"
      }
    },
    {
      "cell_type": "markdown",
      "source": [
        "### Try ... Except\n",
        "\n",
        "```python\n",
        "try:\n",
        "  # código que será ejecutado. En caso de que surja una excepción, para inmediatamente\n",
        "except <nombre_de_la_excepcion as e>:\n",
        "  # Si surje una excepción en el try, ejecuta este código, si no, salta esta etapa\n",
        "```"
      ],
      "metadata": {
        "id": "h9lj8Wfk__cl"
      }
    },
    {
      "cell_type": "markdown",
      "source": [
        "#### **Situación 12:**\n",
        "\n",
        "Creaste un código que lee un diccionario con las notas de los estudiantes y querías retornar la lista de notas de un estudiante.\n",
        "\n",
        "En caso que el/la estudiante no esté matriculado(a) en el grupo debemos tratar la excepción para presentar el mensaje \"Estudiante no matriculado(a) en el grupo\".\n",
        "\n",
        "Vamos a trabajar en este ejemplo con la excepción **Key Error** que interrumpirá el processo de este trecho de código.\n",
        "\n",
        "**¿Vamos a probar este primer tratamiento?**\n",
        "\n"
      ],
      "metadata": {
        "id": "miwzhPNdD8Ty"
      }
    },
    {
      "cell_type": "code",
      "source": [
        "notas = {'Juan': [8.0, 9.0, 10.0], 'Maria': [9.0, 7.0, 6.0], 'José': [3.4, 7.0, 8.0], 'Claudia': [5.5, 6.6, 8.0],\n",
        "         'Ana': [6.0, 10.0, 9.5], 'Jorge': [5.5, 7.5, 9.0], 'Julia': [6.0, 8.0, 7.0], 'Pedro': [3.0, 4.0, 6.0]}"
      ],
      "metadata": {
        "id": "UvVbXY0XVm-f"
      },
      "execution_count": 192,
      "outputs": []
    },
    {
      "cell_type": "code",
      "source": [
        "nombre = input(\"Ingrese el nombre del estudiante: \")\n",
        "resultado = notas[nombre]\n",
        "print(resultado)"
      ],
      "metadata": {
        "id": "rFBq02dbJtkF",
        "outputId": "fb495cee-ee4e-4fc1-9ed1-3c3201bdc0b7",
        "colab": {
          "base_uri": "https://localhost:8080/",
          "height": 193
        }
      },
      "execution_count": 194,
      "outputs": [
        {
          "name": "stdout",
          "output_type": "stream",
          "text": [
            "Ingrese el nombre del estudiante: michael\n"
          ]
        },
        {
          "output_type": "error",
          "ename": "KeyError",
          "evalue": "'michael'",
          "traceback": [
            "\u001b[0;31m---------------------------------------------------------------------------\u001b[0m",
            "\u001b[0;31mKeyError\u001b[0m                                  Traceback (most recent call last)",
            "\u001b[0;32m<ipython-input-194-a0e52759d747>\u001b[0m in \u001b[0;36m<cell line: 0>\u001b[0;34m()\u001b[0m\n\u001b[1;32m      1\u001b[0m \u001b[0mnombre\u001b[0m \u001b[0;34m=\u001b[0m \u001b[0minput\u001b[0m\u001b[0;34m(\u001b[0m\u001b[0;34m\"Ingrese el nombre del estudiante: \"\u001b[0m\u001b[0;34m)\u001b[0m\u001b[0;34m\u001b[0m\u001b[0;34m\u001b[0m\u001b[0m\n\u001b[0;32m----> 2\u001b[0;31m \u001b[0mresultado\u001b[0m \u001b[0;34m=\u001b[0m \u001b[0mnotas\u001b[0m\u001b[0;34m[\u001b[0m\u001b[0mnombre\u001b[0m\u001b[0;34m]\u001b[0m\u001b[0;34m\u001b[0m\u001b[0;34m\u001b[0m\u001b[0m\n\u001b[0m\u001b[1;32m      3\u001b[0m \u001b[0mprint\u001b[0m\u001b[0;34m(\u001b[0m\u001b[0mresultado\u001b[0m\u001b[0;34m)\u001b[0m\u001b[0;34m\u001b[0m\u001b[0;34m\u001b[0m\u001b[0m\n",
            "\u001b[0;31mKeyError\u001b[0m: 'michael'"
          ]
        }
      ]
    },
    {
      "cell_type": "code",
      "source": [
        "try:\n",
        "  nombre = input(\"Ingrese el nombre del estudiante: \")\n",
        "  resultado = notas[nombre]\n",
        "except KeyError as e:\n",
        "  print(type(e),e)"
      ],
      "metadata": {
        "id": "IZwxTL1EJvRl",
        "outputId": "cf9e73a9-3745-449b-8958-47830a47be8b",
        "colab": {
          "base_uri": "https://localhost:8080/"
        }
      },
      "execution_count": 195,
      "outputs": [
        {
          "output_type": "stream",
          "name": "stdout",
          "text": [
            "Ingrese el nombre del estudiante: Michael\n",
            "<class 'KeyError'> 'Michael'\n"
          ]
        }
      ]
    },
    {
      "cell_type": "code",
      "source": [
        "try:\n",
        "  nombre = input(\"Ingrese el nombre del estudiante: \")\n",
        "  resultado = notas[nombre]\n",
        "except KeyError as e:\n",
        "  print(\"Estudiante no matriculado(a) en el grupo\")"
      ],
      "metadata": {
        "id": "HjKgn95BWQJ_"
      },
      "execution_count": null,
      "outputs": []
    },
    {
      "cell_type": "markdown",
      "source": [
        "### Agregando la cláusula Else\n",
        "\n",
        "```python\n",
        "try:\n",
        "  # código que será ejecutado. En caso de que surja una excepción, para inmediatamente\n",
        "except:\n",
        "  # Si surje una excepción en el try, ejecuta este código, si no, salta esta etapa\n",
        "else:\n",
        "  # Si no surjen excepciones, ejecuta esta parte del código\n",
        "```"
      ],
      "metadata": {
        "id": "hKhKzgQoBHLb"
      }
    },
    {
      "cell_type": "markdown",
      "source": [
        "#### **Situación 13:**\n",
        "\n",
        "Creaste un código que lee un diccionario con las notas de los estudiantes y querías retornar la lista de notas de un estudiante.\n",
        "\n",
        "En caso de que el/la estudiante no esté matriculado(a) en la clase, debe aparecer el siguiente mensaje: \"Estudiante no matriculado(a) en el grupo\" y, si no surje la excepción, debemos exhibir la lista con las notas del(la) estudiante.\n",
        "\n",
        "Vamos a trabajar en este ejemplo con la excepción **Key Error** que interrumpirá el proceso de este trecho de código.\n",
        "\n",
        "**¿Vamos a probar este tratamiento?**\n"
      ],
      "metadata": {
        "id": "USN3SA2tMjL0"
      }
    },
    {
      "cell_type": "code",
      "source": [
        "try:\n",
        "  nombre = input(\"Ingrese el nombre del estudiante: \")\n",
        "  resultado = notas[nombre]\n",
        "except KeyError as e:\n",
        "  print(\"Estudiante no matriculado(a) en el grupo\")\n",
        "else:\n",
        "  print(resultado)"
      ],
      "metadata": {
        "id": "Qr_4-D3UJxcE",
        "outputId": "e3e3ea48-1aee-4600-feb8-7520afa1576a",
        "colab": {
          "base_uri": "https://localhost:8080/"
        }
      },
      "execution_count": 197,
      "outputs": [
        {
          "output_type": "stream",
          "name": "stdout",
          "text": [
            "Ingrese el nombre del estudiante: michael\n",
            "Estudiante no matriculado(a) en el grupo\n"
          ]
        }
      ]
    },
    {
      "cell_type": "code",
      "source": [
        "try:\n",
        "  nombre = input(\"Ingrese el nombre del estudiante: \")\n",
        "  resultado = notas[nombre]\n",
        "except KeyError as e:\n",
        "  print(\"Estudiante no matriculado(a) en el grupo\")\n",
        "else:\n",
        "  print(f\"Las notas del estudiante son: {resultado}\")"
      ],
      "metadata": {
        "id": "uy2xPGXoJzXS",
        "outputId": "8f5e9a38-9017-4d12-cd6f-e0f607ae579b",
        "colab": {
          "base_uri": "https://localhost:8080/"
        }
      },
      "execution_count": 199,
      "outputs": [
        {
          "output_type": "stream",
          "name": "stdout",
          "text": [
            "Ingrese el nombre del estudiante: Juan\n",
            "Las notas del estudiante son: [8.0, 9.0, 10.0]\n"
          ]
        }
      ]
    },
    {
      "cell_type": "markdown",
      "source": [
        "### Añadiendo la cláusula finally\n",
        "\n",
        "```python\n",
        "try:\n",
        "  # código que será ejecutado. En caso de que surja una excepción, para inmediatamente\n",
        "except:\n",
        "  # Si surje una excepción en el try, ejecuta este código, si no, salta esta etapa\n",
        "else:\n",
        "  # Si no surjen excepciones, ejecuta esta parte del código\n",
        "finally:\n",
        "  # Ejecuta este trecho (con o sin excepción)\n",
        "```"
      ],
      "metadata": {
        "id": "Dw_efTlbBhll"
      }
    },
    {
      "cell_type": "markdown",
      "source": [
        "#### **Situación 14:**\n",
        "\n",
        "Creaste un código que lee un diccionario con las notas de los estudiantes y querías retornar la lista de notas de un estudiante.\n",
        "\n",
        "En caso de que el/la estudiante no esté matriculado(a) en la clase, debe aparecer el siguiente mensaje: \"Estudiante no matriculado(a) en el grupo\" y, si no surje la excepción, debemos exhibir la lista con las notas del(la) estudiante. Un texto avisando que \"La consulta ha concluído.\" debe ser mostrado independientemente de si surgió o no alguna excepción.\n",
        "\n",
        "\n",
        "Vamos a trabajar en este ejemplo con la excepción **Key Error** que interrumpirá el proceso de este trecho del código.\n",
        "\n",
        "**¿Vamos a probar este tratamiento?**"
      ],
      "metadata": {
        "id": "jGtFVx5GdnsS"
      }
    },
    {
      "cell_type": "code",
      "source": [
        "try:\n",
        "  nombre = input(\"Ingrese el nombre del estudiante: \")\n",
        "  resultado = notas[nombre]\n",
        "except KeyError as e:\n",
        "  print(\"Estudiante no matriculado(a) en el grupo\")\n",
        "else:\n",
        "  print(f\"Las notas del estudiante son: {resultado}\")\n",
        "finally:\n",
        "  print(\"La consulta ha concluído.\")"
      ],
      "metadata": {
        "id": "PwdLYP_zJ04s"
      },
      "execution_count": null,
      "outputs": []
    },
    {
      "cell_type": "code",
      "source": [],
      "metadata": {
        "id": "pv0BaQ95J1BA"
      },
      "execution_count": null,
      "outputs": []
    },
    {
      "cell_type": "markdown",
      "source": [
        "## 4.2 Raise\n",
        "\n",
        "Otra forma de trabajar con las excepciones en tu código, es generando tus propias excepciones para determinados comportamientos que deseas en tu código.\n",
        "\n",
        "Para ello, utilizamos la palabra clave `raise` junto al tipo de excepción que se desea mostrar y el mensaje que será exhibido.   "
      ],
      "metadata": {
        "id": "HdjllLBpST_2"
      }
    },
    {
      "cell_type": "markdown",
      "source": [
        "```python\n",
        "raise NombreDelError(\"Mensaje deseado.\")\n",
        "```"
      ],
      "metadata": {
        "id": "_nIOnDQufv6Z"
      }
    },
    {
      "cell_type": "markdown",
      "source": [
        "#### **Situação 15:**\n",
        "\n",
        "Creaste una función para calcular el promedio de un estudiante en una determinada materia pasando en una lista las notas de este estudiante.\n",
        "\n",
        "Pretendes tratar 2 situaciones:\n",
        "\n",
        "- Si la lista posee un valor no numérico el cálculo de promedio no será ejecutado y un mensaje de \"No fue posible calcular el promedio del(la) estudiante. Solo se admiten valores numéricos!\" será exhibido.\n",
        "\n",
        "- En caso que la lista tenga más de 4 notas, surgirá una excepción del tipo **ValueError** informando que \"La lista no puede poseer más de 4 notas.\"\n",
        "\n",
        "Un texto avisando que \"La consulta ha concluído.\" debe ser mostrado independientemente de si surgió o no alguna excepción.\n",
        "\n",
        "**¿Vamos a resolver este desafío?**"
      ],
      "metadata": {
        "id": "xapeB2ivgB7R"
      }
    },
    {
      "cell_type": "code",
      "source": [
        "def promedio(lista: list=[0]) -> float:\n",
        "  ''' Función para calcular el promedio de notas en una lista\n",
        "\n",
        "  lista: list, default [0]\n",
        "    Lista con las notas para calcular el promedio\n",
        "  return = calculo: float\n",
        "    Promedio calculado\n",
        "  '''\n",
        "  if len(lista) > 4:\n",
        "    raise ValueError(\"La lista no puede poseer más de 4 notas.\")\n",
        "\n",
        "  calculo = sum(lista) / len(lista)\n",
        "\n",
        "\n",
        "  return calculo"
      ],
      "metadata": {
        "id": "kKeFuHUfhSfa"
      },
      "execution_count": 210,
      "outputs": []
    },
    {
      "cell_type": "code",
      "source": [
        "notas = [6,7,8,9,10]\n",
        "resultado = promedio(notas)\n",
        "print(resultado)"
      ],
      "metadata": {
        "id": "_ghW6hb9KBpU",
        "outputId": "fa03b031-ece7-45a9-b899-9241ea058147",
        "colab": {
          "base_uri": "https://localhost:8080/",
          "height": 297
        }
      },
      "execution_count": 203,
      "outputs": [
        {
          "output_type": "error",
          "ename": "ValueError",
          "evalue": "La lista no puede poseer más de 4 notas.",
          "traceback": [
            "\u001b[0;31m---------------------------------------------------------------------------\u001b[0m",
            "\u001b[0;31mValueError\u001b[0m                                Traceback (most recent call last)",
            "\u001b[0;32m<ipython-input-203-8ceb73b5520a>\u001b[0m in \u001b[0;36m<cell line: 0>\u001b[0;34m()\u001b[0m\n\u001b[1;32m      1\u001b[0m \u001b[0mnotas\u001b[0m \u001b[0;34m=\u001b[0m \u001b[0;34m[\u001b[0m\u001b[0;36m6\u001b[0m\u001b[0;34m,\u001b[0m\u001b[0;36m7\u001b[0m\u001b[0;34m,\u001b[0m\u001b[0;36m8\u001b[0m\u001b[0;34m,\u001b[0m\u001b[0;36m9\u001b[0m\u001b[0;34m,\u001b[0m\u001b[0;36m10\u001b[0m\u001b[0;34m]\u001b[0m\u001b[0;34m\u001b[0m\u001b[0;34m\u001b[0m\u001b[0m\n\u001b[0;32m----> 2\u001b[0;31m \u001b[0mresultado\u001b[0m \u001b[0;34m=\u001b[0m \u001b[0mpromedio\u001b[0m\u001b[0;34m(\u001b[0m\u001b[0mnotas\u001b[0m\u001b[0;34m)\u001b[0m\u001b[0;34m\u001b[0m\u001b[0;34m\u001b[0m\u001b[0m\n\u001b[0m\u001b[1;32m      3\u001b[0m \u001b[0mprint\u001b[0m\u001b[0;34m(\u001b[0m\u001b[0mresultado\u001b[0m\u001b[0;34m)\u001b[0m\u001b[0;34m\u001b[0m\u001b[0;34m\u001b[0m\u001b[0m\n",
            "\u001b[0;32m<ipython-input-202-85b185dcc574>\u001b[0m in \u001b[0;36mpromedio\u001b[0;34m(lista)\u001b[0m\n\u001b[1;32m      8\u001b[0m   '''\n\u001b[1;32m      9\u001b[0m   \u001b[0;32mif\u001b[0m \u001b[0mlen\u001b[0m\u001b[0;34m(\u001b[0m\u001b[0mlista\u001b[0m\u001b[0;34m)\u001b[0m \u001b[0;34m>\u001b[0m \u001b[0;36m4\u001b[0m\u001b[0;34m:\u001b[0m\u001b[0;34m\u001b[0m\u001b[0;34m\u001b[0m\u001b[0m\n\u001b[0;32m---> 10\u001b[0;31m     \u001b[0;32mraise\u001b[0m \u001b[0mValueError\u001b[0m\u001b[0;34m(\u001b[0m\u001b[0;34m\"La lista no puede poseer más de 4 notas.\"\u001b[0m\u001b[0;34m)\u001b[0m\u001b[0;34m\u001b[0m\u001b[0;34m\u001b[0m\u001b[0m\n\u001b[0m\u001b[1;32m     11\u001b[0m \u001b[0;34m\u001b[0m\u001b[0m\n\u001b[1;32m     12\u001b[0m   \u001b[0mcalculo\u001b[0m \u001b[0;34m=\u001b[0m \u001b[0msum\u001b[0m\u001b[0;34m(\u001b[0m\u001b[0mlista\u001b[0m\u001b[0;34m)\u001b[0m \u001b[0;34m/\u001b[0m \u001b[0mlen\u001b[0m\u001b[0;34m(\u001b[0m\u001b[0mlista\u001b[0m\u001b[0;34m)\u001b[0m\u001b[0;34m\u001b[0m\u001b[0;34m\u001b[0m\u001b[0m\n",
            "\u001b[0;31mValueError\u001b[0m: La lista no puede poseer más de 4 notas."
          ]
        }
      ]
    },
    {
      "cell_type": "code",
      "source": [
        "notas = [6,7,8,9,\"10\"]\n",
        "resultado = promedio(notas)\n",
        "print(resultado)"
      ],
      "metadata": {
        "id": "X2To8kJdKGFk",
        "outputId": "36f57cfe-7807-45ba-93b3-86f31ded2eee",
        "colab": {
          "base_uri": "https://localhost:8080/",
          "height": 297
        }
      },
      "execution_count": 206,
      "outputs": [
        {
          "output_type": "error",
          "ename": "TypeError",
          "evalue": "unsupported operand type(s) for +: 'int' and 'str'",
          "traceback": [
            "\u001b[0;31m---------------------------------------------------------------------------\u001b[0m",
            "\u001b[0;31mTypeError\u001b[0m                                 Traceback (most recent call last)",
            "\u001b[0;32m<ipython-input-206-83768680e30f>\u001b[0m in \u001b[0;36m<cell line: 0>\u001b[0;34m()\u001b[0m\n\u001b[1;32m      1\u001b[0m \u001b[0mnotas\u001b[0m \u001b[0;34m=\u001b[0m \u001b[0;34m[\u001b[0m\u001b[0;36m6\u001b[0m\u001b[0;34m,\u001b[0m\u001b[0;36m7\u001b[0m\u001b[0;34m,\u001b[0m\u001b[0;36m8\u001b[0m\u001b[0;34m,\u001b[0m\u001b[0;36m9\u001b[0m\u001b[0;34m,\u001b[0m\u001b[0;34m\"10\"\u001b[0m\u001b[0;34m]\u001b[0m\u001b[0;34m\u001b[0m\u001b[0;34m\u001b[0m\u001b[0m\n\u001b[0;32m----> 2\u001b[0;31m \u001b[0mresultado\u001b[0m \u001b[0;34m=\u001b[0m \u001b[0mpromedio\u001b[0m\u001b[0;34m(\u001b[0m\u001b[0mnotas\u001b[0m\u001b[0;34m)\u001b[0m\u001b[0;34m\u001b[0m\u001b[0;34m\u001b[0m\u001b[0m\n\u001b[0m\u001b[1;32m      3\u001b[0m \u001b[0mprint\u001b[0m\u001b[0;34m(\u001b[0m\u001b[0mresultado\u001b[0m\u001b[0;34m)\u001b[0m\u001b[0;34m\u001b[0m\u001b[0;34m\u001b[0m\u001b[0m\n",
            "\u001b[0;32m<ipython-input-205-7d6f1715e22b>\u001b[0m in \u001b[0;36mpromedio\u001b[0;34m(lista)\u001b[0m\n\u001b[1;32m      7\u001b[0m     \u001b[0mPromedio\u001b[0m \u001b[0mcalculado\u001b[0m\u001b[0;34m\u001b[0m\u001b[0;34m\u001b[0m\u001b[0m\n\u001b[1;32m      8\u001b[0m   '''\n\u001b[0;32m----> 9\u001b[0;31m   \u001b[0mcalculo\u001b[0m \u001b[0;34m=\u001b[0m \u001b[0msum\u001b[0m\u001b[0;34m(\u001b[0m\u001b[0mlista\u001b[0m\u001b[0;34m)\u001b[0m \u001b[0;34m/\u001b[0m \u001b[0mlen\u001b[0m\u001b[0;34m(\u001b[0m\u001b[0mlista\u001b[0m\u001b[0;34m)\u001b[0m\u001b[0;34m\u001b[0m\u001b[0;34m\u001b[0m\u001b[0m\n\u001b[0m\u001b[1;32m     10\u001b[0m   \u001b[0;32mif\u001b[0m \u001b[0mlen\u001b[0m\u001b[0;34m(\u001b[0m\u001b[0mlista\u001b[0m\u001b[0;34m)\u001b[0m \u001b[0;34m>\u001b[0m \u001b[0;36m4\u001b[0m\u001b[0;34m:\u001b[0m\u001b[0;34m\u001b[0m\u001b[0;34m\u001b[0m\u001b[0m\n\u001b[1;32m     11\u001b[0m     \u001b[0;32mraise\u001b[0m \u001b[0mValueError\u001b[0m\u001b[0;34m(\u001b[0m\u001b[0;34m\"La lista no puede poseer más de 4 notas.\"\u001b[0m\u001b[0;34m)\u001b[0m\u001b[0;34m\u001b[0m\u001b[0;34m\u001b[0m\u001b[0m\n",
            "\u001b[0;31mTypeError\u001b[0m: unsupported operand type(s) for +: 'int' and 'str'"
          ]
        }
      ]
    },
    {
      "cell_type": "code",
      "source": [
        "try:\n",
        "  notas = [6,7,8,9]\n",
        "  resultado = promedio(notas)\n",
        "except TypeError:\n",
        "  print(\"No fue posible calcular el promedio del(la) estudiante. Solo se admiten valores numéricos!\")\n",
        "except ValueError as e:\n",
        "  print(e)\n",
        "else:\n",
        "  print(f\"Las notas del estudiante son: {resultado}\")\n",
        "finally:\n",
        "  print(\"La consulta ha concluído.\")\n"
      ],
      "metadata": {
        "id": "nrCsWqX6KGIA",
        "outputId": "39bbb224-d4d1-41c8-e7c2-15a2fcdbe376",
        "colab": {
          "base_uri": "https://localhost:8080/"
        }
      },
      "execution_count": 213,
      "outputs": [
        {
          "output_type": "stream",
          "name": "stdout",
          "text": [
            "Las notas del estudiante son: 7.5\n",
            "La consulta ha concluído.\n"
          ]
        }
      ]
    }
  ]
}